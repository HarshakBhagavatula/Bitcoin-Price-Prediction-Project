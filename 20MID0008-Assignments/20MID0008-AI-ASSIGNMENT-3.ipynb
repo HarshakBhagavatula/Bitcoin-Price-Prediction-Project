{
  "cells": [
    {
      "cell_type": "code",
      "execution_count": null,
      "metadata": {
        "id": "eYZEQQ7791XV"
      },
      "outputs": [],
      "source": [
        "# Name : B.HARSHAK\n",
        "# Reg No : 20MID0008\n",
        "# college : VIT Vellore\n",
        "# Branch : CSE\n",
        "#                                          -------AI Assignment 3---------"
      ]
    },
    {
      "cell_type": "code",
      "execution_count": null,
      "metadata": {
        "id": "UqcwY6WcT3b9"
      },
      "outputs": [],
      "source": [
        "\"\"\"\n",
        "Build a CNN model for Bird species\n",
        "\n",
        "Bird species classification is the process of using machine learning and computer vision techniques to identify and categorize different species of birds based \n",
        "on their visual characteristics. By analyzing images of birds, models can extract features and patterns to accurately classify bird species. This classification is \n",
        "vital for ecological research, wildlife monitoring, and conservation efforts. Advancements in deep learning and the availability of large annotated datasets have \n",
        "improved the accuracy of bird species classification models. Challenges include variations in lighting, pose, and background clutter. Ongoing research \n",
        "focuses on methods like transfer learning and data augmentation to enhance classification performance and contribute to avian biodiversity understanding \n",
        "and conservation.\n",
        "\n",
        "Dataset Link: https://www.kaggle.com/datasets/akash2907/bird-species-classification\n",
        "\n",
        "\"\"\""
      ]
    },
    {
      "cell_type": "code",
      "execution_count": 12,
      "metadata": {
        "colab": {
          "base_uri": "https://localhost:8080/"
        },
        "id": "WbYHNfsiopGp",
        "outputId": "6f1a6e46-5879-4bad-e06c-e393f8e4ca84"
      },
      "outputs": [
        {
          "name": "stdout",
          "output_type": "stream",
          "text": [
            "Drive already mounted at /content/drive; to attempt to forcibly remount, call drive.mount(\"/content/drive\", force_remount=True).\n"
          ]
        }
      ],
      "source": [
        "from google.colab import drive\n",
        "drive.mount('/content/drive')"
      ]
    },
    {
      "cell_type": "code",
      "execution_count": 13,
      "metadata": {
        "id": "Y9ElMruLo_UA"
      },
      "outputs": [],
      "source": [
        "# Data Augmentation\n",
        "import tensorflow as tf\n",
        "from tensorflow.keras.preprocessing.image import ImageDataGenerator\n",
        "from tensorflow.keras.layers import Conv2D, MaxPooling2D, Flatten, Dense\n",
        "from tensorflow.keras.models import Sequential"
      ]
    },
    {
      "cell_type": "code",
      "execution_count": 14,
      "metadata": {
        "id": "afltkwGPZxLN"
      },
      "outputs": [],
      "source": [
        "train_datagen = ImageDataGenerator(rescale=(1./255),horizontal_flip=True,shear_range=0.2)\n",
        "test_datagen = ImageDataGenerator(rescale=(1./255))  #--> (0 to 255) convert to (0 to 1)"
      ]
    },
    {
      "cell_type": "code",
      "execution_count": 22,
      "metadata": {
        "colab": {
          "base_uri": "https://localhost:8080/"
        },
        "id": "o9cNjGqnZ5Fk",
        "outputId": "e23046ba-2d77-4df8-9bf0-4cbf68d4a852"
      },
      "outputs": [
        {
          "name": "stdout",
          "output_type": "stream",
          "text": [
            "Found 154 images belonging to 1 classes.\n",
            "Found 159 images belonging to 1 classes.\n"
          ]
        }
      ],
      "source": [
        "train_generator = train_datagen.flow_from_directory(\n",
        "    '/content/drive/MyDrive/Birdspecies/train_data',\n",
        "    target_size=(120, 120),\n",
        "    batch_size=16,\n",
        "    class_mode='categorical'\n",
        ")\n",
        "\n",
        "test_generator = test_datagen.flow_from_directory(\n",
        "    '/content/drive/MyDrive/Birdspecies/test_data',\n",
        "    target_size=(120, 120),\n",
        "    batch_size=16,\n",
        "    class_mode='categorical'\n",
        ")"
      ]
    },
    {
      "cell_type": "code",
      "execution_count": 23,
      "metadata": {
        "colab": {
          "base_uri": "https://localhost:8080/"
        },
        "id": "HDNrflAvaQUM",
        "outputId": "bdafe042-965d-4510-9afd-a06506090c24"
      },
      "outputs": [
        {
          "data": {
            "text/plain": [
              "{'blasti': 0,\n",
              " 'bonegl': 1,\n",
              " 'brhkyt': 2,\n",
              " 'cbrtsh': 3,\n",
              " 'cmnmyn': 4,\n",
              " 'gretit': 5,\n",
              " 'hilpig': 6,\n",
              " 'himbul': 7,\n",
              " 'himgri': 8,\n",
              " 'hsparo': 9,\n",
              " 'indvul': 10,\n",
              " 'jglowl': 11,\n",
              " 'lbicrw': 12,\n",
              " 'mgprob': 13,\n",
              " 'rebimg': 14,\n",
              " 'wcrsrt': 15}"
            ]
          },
          "execution_count": 23,
          "metadata": {},
          "output_type": "execute_result"
        }
      ],
      "source": [
        "train.class_indices"
      ]
    },
    {
      "cell_type": "code",
      "execution_count": 6,
      "metadata": {
        "id": "g7euriAraj4d"
      },
      "outputs": [],
      "source": []
    },
    {
      "cell_type": "code",
      "execution_count": 24,
      "metadata": {
        "id": "JZ6w7YZuapp5"
      },
      "outputs": [],
      "source": [
        "# CNN\n",
        "model = Sequential()\n",
        "model.add(Conv2D(20, (3, 3), activation='relu', input_shape=(120, 120, 3)))\n",
        "model.add(MaxPooling2D(pool_size=(2, 2)))\n",
        "model.add(Flatten())\n",
        "model.add(Dense(45, activation='relu'))\n",
        "model.add(Dense(4, activation='softmax'))"
      ]
    },
    {
      "cell_type": "code",
      "execution_count": 25,
      "metadata": {
        "id": "4Hj2ZjfUatcT"
      },
      "outputs": [],
      "source": [
        "model.compile(optimizer='adam', loss='categorical_crossentropy', metrics=['accuracy'])"
      ]
    },
    {
      "cell_type": "code",
      "execution_count": 26,
      "metadata": {
        "colab": {
          "base_uri": "https://localhost:8080/"
        },
        "id": "mn8NRuCNUPAp",
        "outputId": "3ba931b5-8ad4-4250-b754-744c73072e3d"
      },
      "outputs": [
        {
          "name": "stdout",
          "output_type": "stream",
          "text": [
            "Model: \"sequential_2\"\n",
            "_________________________________________________________________\n",
            " Layer (type)                Output Shape              Param #   \n",
            "=================================================================\n",
            " conv2d_2 (Conv2D)           (None, 118, 118, 20)      560       \n",
            "                                                                 \n",
            " max_pooling2d_2 (MaxPooling  (None, 59, 59, 20)       0         \n",
            " 2D)                                                             \n",
            "                                                                 \n",
            " flatten_2 (Flatten)         (None, 69620)             0         \n",
            "                                                                 \n",
            " dense_4 (Dense)             (None, 45)                3132945   \n",
            "                                                                 \n",
            " dense_5 (Dense)             (None, 4)                 184       \n",
            "                                                                 \n",
            "=================================================================\n",
            "Total params: 3,133,689\n",
            "Trainable params: 3,133,689\n",
            "Non-trainable params: 0\n",
            "_________________________________________________________________\n"
          ]
        }
      ],
      "source": [
        "model.summary()"
      ]
    },
    {
      "cell_type": "code",
      "execution_count": 28,
      "metadata": {
        "colab": {
          "base_uri": "https://localhost:8080/"
        },
        "id": "TpQPzJA4a14i",
        "outputId": "4edafefe-e1b4-49e6-e61c-4428e4688a00"
      },
      "outputs": [
        {
          "name": "stdout",
          "output_type": "stream",
          "text": [
            "Epoch 1/10\n",
            "10/10 [==============================] - 99s 11s/step - loss: 37.9985 - accuracy: 0.3312 - val_loss: 55.2255 - val_accuracy: 0.0000e+00\n",
            "Epoch 2/10\n",
            "10/10 [==============================] - 86s 9s/step - loss: 77.7550 - accuracy: 0.2727 - val_loss: 94.9493 - val_accuracy: 0.0000e+00\n",
            "Epoch 3/10\n",
            "10/10 [==============================] - 86s 9s/step - loss: 136.0472 - accuracy: 0.3052 - val_loss: 144.1010 - val_accuracy: 0.0000e+00\n",
            "Epoch 4/10\n",
            "10/10 [==============================] - 86s 9s/step - loss: 192.0458 - accuracy: 0.3052 - val_loss: 138.7957 - val_accuracy: 0.5660\n",
            "Epoch 5/10\n",
            "10/10 [==============================] - 86s 9s/step - loss: 159.7848 - accuracy: 0.2532 - val_loss: 61.9215 - val_accuracy: 1.0000\n",
            "Epoch 6/10\n",
            "10/10 [==============================] - 86s 9s/step - loss: 83.9886 - accuracy: 0.2468 - val_loss: 146.8241 - val_accuracy: 1.0000\n",
            "Epoch 7/10\n",
            "10/10 [==============================] - 86s 9s/step - loss: 205.2920 - accuracy: 0.2078 - val_loss: 241.6791 - val_accuracy: 1.0000\n",
            "Epoch 8/10\n",
            "10/10 [==============================] - 87s 9s/step - loss: 283.8811 - accuracy: 0.2727 - val_loss: 305.8405 - val_accuracy: 1.0000\n",
            "Epoch 9/10\n",
            "10/10 [==============================] - 86s 9s/step - loss: 346.2403 - accuracy: 0.2078 - val_loss: 474.0749 - val_accuracy: 0.0000e+00\n",
            "Epoch 10/10\n",
            "10/10 [==============================] - 119s 13s/step - loss: 256.1907 - accuracy: 0.1948 - val_loss: 472.8645 - val_accuracy: 0.0000e+00\n"
          ]
        },
        {
          "data": {
            "text/plain": [
              "<keras.callbacks.History at 0x7fe9306f0550>"
            ]
          },
          "execution_count": 28,
          "metadata": {},
          "output_type": "execute_result"
        }
      ],
      "source": [
        "model.fit(train_generator,batch_size=32, validation_data=test_generator, epochs=10)"
      ]
    },
    {
      "cell_type": "code",
      "execution_count": 29,
      "metadata": {
        "id": "YOmbYZD7eBH9"
      },
      "outputs": [],
      "source": [
        "model.save('birdWeights.h5')"
      ]
    },
    {
      "cell_type": "code",
      "execution_count": 30,
      "metadata": {
        "id": "ctU-fTr3eE5V"
      },
      "outputs": [],
      "source": [
        "# Testing\n",
        "\n",
        "import numpy as np\n",
        "from tensorflow.keras.preprocessing import image"
      ]
    },
    {
      "cell_type": "code",
      "execution_count": 31,
      "metadata": {
        "colab": {
          "base_uri": "https://localhost:8080/"
        },
        "id": "46b37JmaeLV9",
        "outputId": "1034b101-b5de-425a-c28e-5300f8cb3a44"
      },
      "outputs": [
        {
          "name": "stdout",
          "output_type": "stream",
          "text": [
            "1/1 [==============================] - 0s 130ms/step\n",
            "1\n",
            "bonegl\n"
          ]
        }
      ],
      "source": [
        "# Testing 1\n",
        "img1 = image.load_img('/content/drive/MyDrive/gretit.jpg',target_size=(120,120))\n",
        "img1 = image.img_to_array(img1)\n",
        "img1 = np.expand_dims(img1,axis=0)\n",
        "pred = np.argmax(model.predict(img1))\n",
        "print(pred)\n",
        "output = ['blasti','bonegl','brhkyt','cbrtsh','cmnmyn',\n",
        " 'gretit','hilpig','himbul','himgri','hsparo','indvul',\n",
        " 'jglowl','lbicrw','mgprob','rebimg','wcrsrt']\n",
        "print(output[pred])"
      ]
    },
    {
      "cell_type": "code",
      "execution_count": 33,
      "metadata": {
        "colab": {
          "base_uri": "https://localhost:8080/"
        },
        "id": "59VV3fcKfTfo",
        "outputId": "0e00a166-5de4-4637-b0b9-756142918126"
      },
      "outputs": [
        {
          "name": "stdout",
          "output_type": "stream",
          "text": [
            "1/1 [==============================] - 0s 29ms/step\n",
            "1\n",
            "bonegl\n"
          ]
        }
      ],
      "source": [
        "# Testing 2\n",
        "img2 = image.load_img('/content/drive/MyDrive/jglowl.jpg',target_size=(120,120))\n",
        "img2 = image.img_to_array(img2)\n",
        "img2 = np.expand_dims(img2,axis=0)\n",
        "pred = np.argmax(model.predict(img2))\n",
        "print(pred)\n",
        "output = ['blasti','bonegl','brhkyt','cbrtsh','cmnmyn',\n",
        " 'gretit','hilpig','himbul','himgri','hsparo','indvul',\n",
        " 'jglowl','lbicrw','mgprob','rebimg','wcrsrt']\n",
        "print(output[pred])"
      ]
    },
    {
      "cell_type": "code",
      "execution_count": 34,
      "metadata": {
        "colab": {
          "base_uri": "https://localhost:8080/"
        },
        "id": "wXxxaSV_fiyx",
        "outputId": "4a67531f-7f51-4871-8202-f740f684140f"
      },
      "outputs": [
        {
          "name": "stdout",
          "output_type": "stream",
          "text": [
            "1/1 [==============================] - 0s 37ms/step\n",
            "1\n",
            "bonegl\n"
          ]
        }
      ],
      "source": [
        "# Testing 3\n",
        "img3 = image.load_img('/content/drive/MyDrive/HimBul.jfif',target_size=(120,120))\n",
        "img3 = image.img_to_array(img3)\n",
        "img3 = np.expand_dims(img3,axis=0)\n",
        "pred = np.argmax(model.predict(img3))\n",
        "print(pred)\n",
        "output = ['blasti','bonegl','brhkyt','cbrtsh','cmnmyn',\n",
        " 'gretit','hilpig','himbul','himgri','hsparo','indvul',\n",
        " 'jglowl','lbicrw','mgprob','rebimg','wcrsrt']\n",
        "print(output[pred])\n",
        "     "
      ]
    },
    {
      "attachments": {},
      "cell_type": "markdown",
      "metadata": {
        "id": "9sTNDzRcfuu_"
      },
      "source": [
        "Model tuning (Adding feature extraction layers)"
      ]
    },
    {
      "cell_type": "code",
      "execution_count": 35,
      "metadata": {
        "id": "bZQ_aM4cfzV6"
      },
      "outputs": [],
      "source": [
        "model = Sequential()\n",
        "model.add(Conv2D(12,(3,3),activation='relu',input_shape=(120, 120, 3)))\n",
        "model.add(MaxPooling2D(pool_size=(2,2)))\n",
        "model.add(Conv2D(24,(3,3),activation='relu'))\n",
        "model.add(MaxPooling2D(pool_size=(2,2)))\n",
        "model.add(Conv2D(36,(3,3),activation='relu'))\n",
        "model.add(MaxPooling2D(pool_size=(2,2)))\n",
        "model.add(Flatten())\n",
        "model.add(Dense(62,activation='relu'))\n",
        "model.add(Dense(32,activation='relu'))\n",
        "model.add(Dense(16,activation='relu'))\n",
        "model.add(Dense(4,activation='softmax'))\n",
        "     "
      ]
    },
    {
      "cell_type": "code",
      "execution_count": 36,
      "metadata": {
        "colab": {
          "base_uri": "https://localhost:8080/"
        },
        "id": "nYwB98-PgBCP",
        "outputId": "aa86103b-4530-4d39-9973-b558bfc8f4b2"
      },
      "outputs": [
        {
          "name": "stdout",
          "output_type": "stream",
          "text": [
            "Model: \"sequential_3\"\n",
            "_________________________________________________________________\n",
            " Layer (type)                Output Shape              Param #   \n",
            "=================================================================\n",
            " conv2d_3 (Conv2D)           (None, 118, 118, 12)      336       \n",
            "                                                                 \n",
            " max_pooling2d_3 (MaxPooling  (None, 59, 59, 12)       0         \n",
            " 2D)                                                             \n",
            "                                                                 \n",
            " conv2d_4 (Conv2D)           (None, 57, 57, 24)        2616      \n",
            "                                                                 \n",
            " max_pooling2d_4 (MaxPooling  (None, 28, 28, 24)       0         \n",
            " 2D)                                                             \n",
            "                                                                 \n",
            " conv2d_5 (Conv2D)           (None, 26, 26, 36)        7812      \n",
            "                                                                 \n",
            " max_pooling2d_5 (MaxPooling  (None, 13, 13, 36)       0         \n",
            " 2D)                                                             \n",
            "                                                                 \n",
            " flatten_3 (Flatten)         (None, 6084)              0         \n",
            "                                                                 \n",
            " dense_6 (Dense)             (None, 62)                377270    \n",
            "                                                                 \n",
            " dense_7 (Dense)             (None, 32)                2016      \n",
            "                                                                 \n",
            " dense_8 (Dense)             (None, 16)                528       \n",
            "                                                                 \n",
            " dense_9 (Dense)             (None, 4)                 68        \n",
            "                                                                 \n",
            "=================================================================\n",
            "Total params: 390,646\n",
            "Trainable params: 390,646\n",
            "Non-trainable params: 0\n",
            "_________________________________________________________________\n"
          ]
        }
      ],
      "source": [
        "model.summary()"
      ]
    },
    {
      "cell_type": "code",
      "execution_count": 37,
      "metadata": {
        "id": "_gaeGas-gEQP"
      },
      "outputs": [],
      "source": [
        "model.compile(optimizer='adam',loss='categorical_crossentropy',metrics=['accuracy'])"
      ]
    },
    {
      "cell_type": "code",
      "execution_count": 40,
      "metadata": {
        "colab": {
          "base_uri": "https://localhost:8080/"
        },
        "id": "xlhMH-zzgFiL",
        "outputId": "f2ecf2e4-ba6b-4e7f-bca1-d3720bd18dda"
      },
      "outputs": [
        {
          "name": "stdout",
          "output_type": "stream",
          "text": [
            "Epoch 1/50\n",
            "10/10 [==============================] - 92s 9s/step - loss: 7.0260 - accuracy: 0.0000e+00 - val_loss: 11.6264 - val_accuracy: 0.0000e+00\n",
            "Epoch 2/50\n",
            "10/10 [==============================] - 85s 9s/step - loss: 33.8606 - accuracy: 0.0000e+00 - val_loss: 69.7394 - val_accuracy: 0.0000e+00\n",
            "Epoch 3/50\n",
            "10/10 [==============================] - 86s 9s/step - loss: 222.7534 - accuracy: 0.0000e+00 - val_loss: 578.6370 - val_accuracy: 0.0000e+00\n",
            "Epoch 4/50\n",
            "10/10 [==============================] - 85s 9s/step - loss: 1514.8008 - accuracy: 0.0000e+00 - val_loss: 3500.3958 - val_accuracy: 0.0000e+00\n",
            "Epoch 5/50\n",
            "10/10 [==============================] - 87s 9s/step - loss: 7722.4341 - accuracy: 0.0000e+00 - val_loss: 16078.0205 - val_accuracy: 0.0000e+00\n",
            "Epoch 6/50\n",
            "10/10 [==============================] - 86s 9s/step - loss: 29948.8223 - accuracy: 0.0000e+00 - val_loss: 54544.8867 - val_accuracy: 0.0000e+00\n",
            "Epoch 7/50\n",
            "10/10 [==============================] - 87s 9s/step - loss: 95843.4375 - accuracy: 0.0000e+00 - val_loss: 173345.7188 - val_accuracy: 0.0000e+00\n",
            "Epoch 8/50\n",
            "10/10 [==============================] - 85s 9s/step - loss: 286810.7812 - accuracy: 0.0000e+00 - val_loss: 494236.8750 - val_accuracy: 0.0000e+00\n",
            "Epoch 9/50\n",
            "10/10 [==============================] - 86s 9s/step - loss: 782381.6250 - accuracy: 0.0000e+00 - val_loss: 1254168.0000 - val_accuracy: 0.0000e+00\n",
            "Epoch 10/50\n",
            "10/10 [==============================] - 119s 13s/step - loss: 1863840.0000 - accuracy: 0.0000e+00 - val_loss: 2839909.2500 - val_accuracy: 0.0000e+00\n",
            "Epoch 11/50\n",
            "10/10 [==============================] - 85s 9s/step - loss: 3939777.7500 - accuracy: 0.0000e+00 - val_loss: 5648282.0000 - val_accuracy: 0.0000e+00\n",
            "Epoch 12/50\n",
            "10/10 [==============================] - 85s 9s/step - loss: 7682632.5000 - accuracy: 0.0000e+00 - val_loss: 11011706.0000 - val_accuracy: 0.0000e+00\n",
            "Epoch 13/50\n",
            "10/10 [==============================] - 85s 9s/step - loss: 14175265.0000 - accuracy: 0.0000e+00 - val_loss: 19539790.0000 - val_accuracy: 0.0000e+00\n",
            "Epoch 14/50\n",
            "10/10 [==============================] - 85s 9s/step - loss: 24027882.0000 - accuracy: 0.0000e+00 - val_loss: 32063314.0000 - val_accuracy: 0.0000e+00\n",
            "Epoch 15/50\n",
            "10/10 [==============================] - 85s 9s/step - loss: 38705288.0000 - accuracy: 0.0000e+00 - val_loss: 50073228.0000 - val_accuracy: 0.0000e+00\n",
            "Epoch 16/50\n",
            "10/10 [==============================] - 86s 9s/step - loss: 59222668.0000 - accuracy: 0.0000e+00 - val_loss: 75652152.0000 - val_accuracy: 0.0000e+00\n",
            "Epoch 17/50\n",
            "10/10 [==============================] - 87s 9s/step - loss: 87236296.0000 - accuracy: 0.0000e+00 - val_loss: 106101584.0000 - val_accuracy: 0.0000e+00\n",
            "Epoch 18/50\n",
            "10/10 [==============================] - 96s 10s/step - loss: 118877568.0000 - accuracy: 0.0000e+00 - val_loss: 147240976.0000 - val_accuracy: 0.0000e+00\n",
            "Epoch 19/50\n",
            "10/10 [==============================] - 122s 13s/step - loss: 159591472.0000 - accuracy: 0.0000e+00 - val_loss: 181390320.0000 - val_accuracy: 0.0000e+00\n",
            "Epoch 20/50\n",
            "10/10 [==============================] - 85s 9s/step - loss: 191080208.0000 - accuracy: 0.0000e+00 - val_loss: 216372464.0000 - val_accuracy: 0.0000e+00\n",
            "Epoch 21/50\n",
            "10/10 [==============================] - 85s 9s/step - loss: 206458080.0000 - accuracy: 0.0000e+00 - val_loss: 211686048.0000 - val_accuracy: 0.0000e+00\n",
            "Epoch 22/50\n",
            "10/10 [==============================] - 89s 10s/step - loss: 186918976.0000 - accuracy: 0.0000e+00 - val_loss: 154931120.0000 - val_accuracy: 0.0000e+00\n",
            "Epoch 23/50\n",
            "10/10 [==============================] - 90s 10s/step - loss: 96651096.0000 - accuracy: 0.0000e+00 - val_loss: 70648080.0000 - val_accuracy: 1.0000\n",
            "Epoch 24/50\n",
            "10/10 [==============================] - 89s 9s/step - loss: 78199416.0000 - accuracy: 0.3766 - val_loss: 78332304.0000 - val_accuracy: 0.0000e+00\n",
            "Epoch 25/50\n",
            "10/10 [==============================] - 88s 9s/step - loss: 69072504.0000 - accuracy: 0.1688 - val_loss: 17496830.0000 - val_accuracy: 0.0000e+00\n",
            "Epoch 26/50\n",
            "10/10 [==============================] - 88s 9s/step - loss: 93707248.0000 - accuracy: 0.2078 - val_loss: 215710560.0000 - val_accuracy: 0.0000e+00\n",
            "Epoch 27/50\n",
            "10/10 [==============================] - 91s 9s/step - loss: 212259664.0000 - accuracy: 0.3117 - val_loss: 227681600.0000 - val_accuracy: 0.0000e+00\n",
            "Epoch 28/50\n",
            "10/10 [==============================] - 85s 9s/step - loss: 194651168.0000 - accuracy: 0.2727 - val_loss: 222896352.0000 - val_accuracy: 0.0000e+00\n",
            "Epoch 29/50\n",
            "10/10 [==============================] - 86s 9s/step - loss: 332932928.0000 - accuracy: 0.2078 - val_loss: 387987008.0000 - val_accuracy: 0.0000e+00\n",
            "Epoch 30/50\n",
            "10/10 [==============================] - 90s 10s/step - loss: 462733632.0000 - accuracy: 0.2078 - val_loss: 273315040.0000 - val_accuracy: 0.0000e+00\n",
            "Epoch 31/50\n",
            "10/10 [==============================] - 86s 9s/step - loss: 534258208.0000 - accuracy: 0.3117 - val_loss: 334991904.0000 - val_accuracy: 0.0000e+00\n",
            "Epoch 32/50\n",
            "10/10 [==============================] - 88s 9s/step - loss: 564990720.0000 - accuracy: 0.2078 - val_loss: 802573824.0000 - val_accuracy: 1.0000\n",
            "Epoch 33/50\n",
            "10/10 [==============================] - 119s 13s/step - loss: 481914400.0000 - accuracy: 0.2727 - val_loss: 382445952.0000 - val_accuracy: 0.0000e+00\n",
            "Epoch 34/50\n",
            "10/10 [==============================] - 118s 13s/step - loss: 541498752.0000 - accuracy: 0.2078 - val_loss: 1306130688.0000 - val_accuracy: 1.0000\n",
            "Epoch 35/50\n",
            "10/10 [==============================] - 86s 9s/step - loss: 1362044288.0000 - accuracy: 0.3766 - val_loss: 2356553472.0000 - val_accuracy: 0.0000e+00\n",
            "Epoch 36/50\n",
            "10/10 [==============================] - 85s 9s/step - loss: 1262945792.0000 - accuracy: 0.2078 - val_loss: 1567956608.0000 - val_accuracy: 0.0000e+00\n",
            "Epoch 37/50\n",
            "10/10 [==============================] - 119s 13s/step - loss: 2469963520.0000 - accuracy: 0.2078 - val_loss: 2703866112.0000 - val_accuracy: 0.0000e+00\n",
            "Epoch 38/50\n",
            "10/10 [==============================] - 86s 9s/step - loss: 3376302336.0000 - accuracy: 0.3117 - val_loss: 3976191488.0000 - val_accuracy: 0.0000e+00\n",
            "Epoch 39/50\n",
            "10/10 [==============================] - 89s 9s/step - loss: 3552846592.0000 - accuracy: 0.2078 - val_loss: 3724343296.0000 - val_accuracy: 1.0000\n",
            "Epoch 40/50\n",
            "10/10 [==============================] - 90s 9s/step - loss: 3277437440.0000 - accuracy: 0.3117 - val_loss: 4824482304.0000 - val_accuracy: 1.0000\n",
            "Epoch 41/50\n",
            "10/10 [==============================] - 89s 10s/step - loss: 5171424256.0000 - accuracy: 0.2078 - val_loss: 7438643712.0000 - val_accuracy: 1.0000\n",
            "Epoch 42/50\n",
            "10/10 [==============================] - 87s 9s/step - loss: 5155394560.0000 - accuracy: 0.4156 - val_loss: 3958440448.0000 - val_accuracy: 0.0000e+00\n",
            "Epoch 43/50\n",
            "10/10 [==============================] - 92s 9s/step - loss: 4227624448.0000 - accuracy: 0.1688 - val_loss: 2805421312.0000 - val_accuracy: 0.0000e+00\n",
            "Epoch 44/50\n",
            "10/10 [==============================] - 87s 9s/step - loss: 4147849984.0000 - accuracy: 0.2078 - val_loss: 8661159936.0000 - val_accuracy: 0.0000e+00\n",
            "Epoch 45/50\n",
            "10/10 [==============================] - 119s 13s/step - loss: 8268299264.0000 - accuracy: 0.3117 - val_loss: 6375916032.0000 - val_accuracy: 0.0000e+00\n",
            "Epoch 46/50\n",
            "10/10 [==============================] - 87s 9s/step - loss: 6846312960.0000 - accuracy: 0.2078 - val_loss: 7494889984.0000 - val_accuracy: 0.0000e+00\n",
            "Epoch 47/50\n",
            "10/10 [==============================] - 86s 9s/step - loss: 7362167808.0000 - accuracy: 0.2727 - val_loss: 6153388544.0000 - val_accuracy: 1.0000\n",
            "Epoch 48/50\n",
            "10/10 [==============================] - 83s 9s/step - loss: 7742365184.0000 - accuracy: 0.3117 - val_loss: 8179773440.0000 - val_accuracy: 0.0000e+00\n",
            "Epoch 49/50\n",
            "10/10 [==============================] - 84s 9s/step - loss: 8928992256.0000 - accuracy: 0.1688 - val_loss: 13948972032.0000 - val_accuracy: 0.0000e+00\n",
            "Epoch 50/50\n",
            "10/10 [==============================] - 84s 9s/step - loss: 14770166784.0000 - accuracy: 0.3117 - val_loss: 15698890752.0000 - val_accuracy: 0.0000e+00\n"
          ]
        },
        {
          "data": {
            "text/plain": [
              "<keras.callbacks.History at 0x7fea002272b0>"
            ]
          },
          "execution_count": 40,
          "metadata": {},
          "output_type": "execute_result"
        }
      ],
      "source": [
        "model.fit(train_generator,batch_size=32,validation_data=test_generator,epochs=50)"
      ]
    },
    {
      "cell_type": "code",
      "execution_count": 41,
      "metadata": {
        "colab": {
          "base_uri": "https://localhost:8080/"
        },
        "id": "oGANhPjN08BU",
        "outputId": "014d8a5e-3d5f-46a8-dbb6-b0ee33f21421"
      },
      "outputs": [
        {
          "name": "stdout",
          "output_type": "stream",
          "text": [
            "1/1 [==============================] - 0s 206ms/step\n",
            "2\n",
            "brhkyt\n"
          ]
        }
      ],
      "source": [
        "# Testing 1\n",
        "img1 = image.load_img('/content/drive/MyDrive/gretit.jpg',target_size=(120,120))\n",
        "img1 = image.img_to_array(img1)\n",
        "img1 = np.expand_dims(img1,axis=0)\n",
        "pred = np.argmax(model.predict(img1))\n",
        "print(pred)\n",
        "output = ['blasti','bonegl','brhkyt','cbrtsh','cmnmyn',\n",
        " 'gretit','hilpig','himbul','himgri','hsparo','indvul',\n",
        " 'jglowl','lbicrw','mgprob','rebimg','wcrsrt']\n",
        "print(output[pred])"
      ]
    },
    {
      "cell_type": "code",
      "execution_count": 42,
      "metadata": {
        "colab": {
          "base_uri": "https://localhost:8080/"
        },
        "id": "y9rNydVM0724",
        "outputId": "01677e65-204b-4e57-b287-887fdcbf6091"
      },
      "outputs": [
        {
          "name": "stdout",
          "output_type": "stream",
          "text": [
            "1/1 [==============================] - 0s 20ms/step\n",
            "2\n",
            "brhkyt\n"
          ]
        }
      ],
      "source": [
        "# Testing 2\n",
        "img2 = image.load_img('/content/drive/MyDrive/jglowl.jpg',target_size=(120,120))\n",
        "img2 = image.img_to_array(img2)\n",
        "img2 = np.expand_dims(img2,axis=0)\n",
        "pred = np.argmax(model.predict(img2))\n",
        "print(pred)\n",
        "output = ['blasti','bonegl','brhkyt','cbrtsh','cmnmyn',\n",
        " 'gretit','hilpig','himbul','himgri','hsparo','indvul',\n",
        " 'jglowl','lbicrw','mgprob','rebimg','wcrsrt']\n",
        "print(output[pred])"
      ]
    },
    {
      "cell_type": "code",
      "execution_count": 43,
      "metadata": {
        "colab": {
          "base_uri": "https://localhost:8080/"
        },
        "id": "8xjx0X5t07kq",
        "outputId": "d78e1df0-02c1-4364-a859-73ee1b76a11d"
      },
      "outputs": [
        {
          "name": "stdout",
          "output_type": "stream",
          "text": [
            "1/1 [==============================] - 0s 21ms/step\n",
            "2\n",
            "brhkyt\n"
          ]
        }
      ],
      "source": [
        "# Testing 3\n",
        "img3 = image.load_img('/content/drive/MyDrive/HimBul.jfif',target_size=(120,120))\n",
        "img3 = image.img_to_array(img3)\n",
        "img3 = np.expand_dims(img3,axis=0)\n",
        "pred = np.argmax(model.predict(img3))\n",
        "print(pred)\n",
        "output = ['blasti','bonegl','brhkyt','cbrtsh','cmnmyn',\n",
        " 'gretit','hilpig','himbul','himgri','hsparo','indvul',\n",
        " 'jglowl','lbicrw','mgprob','rebimg','wcrsrt']\n",
        "print(output[pred])\n",
        "     "
      ]
    },
    {
      "attachments": {},
      "cell_type": "markdown",
      "metadata": {
        "id": "eQ8K0PZeoL6Y"
      },
      "source": [
        "Transfer Learning\n"
      ]
    },
    {
      "cell_type": "code",
      "execution_count": 6,
      "metadata": {
        "id": "23qRnTWZoQ9z"
      },
      "outputs": [],
      "source": [
        "#VGG16\n",
        "\n",
        "from tensorflow.keras.layers import Dense,Flatten,Input\n",
        "from tensorflow.keras.models import Model\n",
        "from tensorflow.keras.preprocessing import image\n",
        "from tensorflow.keras.preprocessing.image import ImageDataGenerator,load_img\n",
        "import numpy as np"
      ]
    },
    {
      "cell_type": "code",
      "execution_count": 7,
      "metadata": {
        "id": "tcHR4ZcQo9g3"
      },
      "outputs": [],
      "source": [
        "train_path=\"/content/drive/MyDrive/Birdspecies/train_data\"\n",
        "test_path=\"/content/drive/MyDrive/Birdspecies/test_data\""
      ]
    },
    {
      "cell_type": "code",
      "execution_count": 8,
      "metadata": {
        "id": "m5rygeTaql2x"
      },
      "outputs": [],
      "source": [
        "train_gen=ImageDataGenerator(rescale=1./255,shear_range=0.2,zoom_range=0.2,horizontal_flip=True)\n",
        "test_gen=ImageDataGenerator(rescale=1./255)"
      ]
    },
    {
      "cell_type": "code",
      "execution_count": 9,
      "metadata": {
        "colab": {
          "base_uri": "https://localhost:8080/"
        },
        "id": "EOdBkPh9rcKg",
        "outputId": "26029ff5-6db6-424e-e20c-177558a9c359"
      },
      "outputs": [
        {
          "name": "stdout",
          "output_type": "stream",
          "text": [
            "Found 154 images belonging to 1 classes.\n",
            "Found 159 images belonging to 1 classes.\n"
          ]
        }
      ],
      "source": [
        "train=train_gen.flow_from_directory(train_path,target_size=(224,224),batch_size=22,class_mode='categorical')\n",
        "test=test_gen.flow_from_directory(test_path,target_size=(224,224),batch_size=22,class_mode='categorical')"
      ]
    },
    {
      "cell_type": "code",
      "execution_count": 11,
      "metadata": {
        "id": "yAl4Lh9FsgR4"
      },
      "outputs": [],
      "source": [
        "from tensorflow.keras.applications.vgg16 import VGG16,preprocess_input"
      ]
    },
    {
      "cell_type": "code",
      "execution_count": 12,
      "metadata": {
        "id": "5qVf_nKRtfva"
      },
      "outputs": [],
      "source": [
        "#Adding preprocessing layer to front of vgg"
      ]
    },
    {
      "cell_type": "code",
      "execution_count": 13,
      "metadata": {
        "colab": {
          "base_uri": "https://localhost:8080/"
        },
        "id": "TP_TKRJkuBV9",
        "outputId": "b44a03b8-cd3e-4a42-db76-725fb3984c78"
      },
      "outputs": [
        {
          "name": "stdout",
          "output_type": "stream",
          "text": [
            "Downloading data from https://storage.googleapis.com/tensorflow/keras-applications/vgg16/vgg16_weights_tf_dim_ordering_tf_kernels_notop.h5\n",
            "58889256/58889256 [==============================] - 0s 0us/step\n"
          ]
        }
      ],
      "source": [
        "vgg = VGG16(include_top=False,weights='imagenet',input_shape=(224,224,3))"
      ]
    },
    {
      "cell_type": "code",
      "execution_count": 14,
      "metadata": {
        "colab": {
          "base_uri": "https://localhost:8080/"
        },
        "id": "ArDucWJru-mY",
        "outputId": "467b19b4-76ff-4646-8d79-3a0c0454a52b"
      },
      "outputs": [
        {
          "name": "stdout",
          "output_type": "stream",
          "text": [
            "<keras.engine.input_layer.InputLayer object at 0x7f8fe876b7c0>\n",
            "<keras.layers.convolutional.conv2d.Conv2D object at 0x7f8fe8610dc0>\n",
            "<keras.layers.convolutional.conv2d.Conv2D object at 0x7f8fe8611510>\n",
            "<keras.layers.pooling.max_pooling2d.MaxPooling2D object at 0x7f8fe8612560>\n",
            "<keras.layers.convolutional.conv2d.Conv2D object at 0x7f8fe86131c0>\n",
            "<keras.layers.convolutional.conv2d.Conv2D object at 0x7f8fe86135b0>\n",
            "<keras.layers.pooling.max_pooling2d.MaxPooling2D object at 0x7f8fe6530340>\n",
            "<keras.layers.convolutional.conv2d.Conv2D object at 0x7f8fe8612bc0>\n",
            "<keras.layers.convolutional.conv2d.Conv2D object at 0x7f8fe86128c0>\n",
            "<keras.layers.convolutional.conv2d.Conv2D object at 0x7f8fe6530640>\n",
            "<keras.layers.pooling.max_pooling2d.MaxPooling2D object at 0x7f8fe6532ce0>\n",
            "<keras.layers.convolutional.conv2d.Conv2D object at 0x7f8fe6533820>\n",
            "<keras.layers.convolutional.conv2d.Conv2D object at 0x7f8fe6530670>\n",
            "<keras.layers.convolutional.conv2d.Conv2D object at 0x7f8fe6530160>\n",
            "<keras.layers.pooling.max_pooling2d.MaxPooling2D object at 0x7f8fe65451e0>\n",
            "<keras.layers.convolutional.conv2d.Conv2D object at 0x7f8fe6532590>\n",
            "<keras.layers.convolutional.conv2d.Conv2D object at 0x7f8fe65466e0>\n",
            "<keras.layers.convolutional.conv2d.Conv2D object at 0x7f8fe6547700>\n",
            "<keras.layers.pooling.max_pooling2d.MaxPooling2D object at 0x7f8fe6546920>\n"
          ]
        }
      ],
      "source": [
        "#Train model with existing weights\n",
        "\n",
        "for layer in vgg.layers:\n",
        "  print(layer)"
      ]
    },
    {
      "cell_type": "code",
      "execution_count": 15,
      "metadata": {
        "id": "ymcGyaTXvm55"
      },
      "outputs": [],
      "source": [
        "#Train model with existing weights\n",
        "\n",
        "for layer in vgg.layers:\n",
        "  layer.trainable=False"
      ]
    },
    {
      "cell_type": "code",
      "execution_count": 16,
      "metadata": {
        "id": "aUoUtvaVxN8Z"
      },
      "outputs": [],
      "source": [
        "x = Flatten()(vgg.output)"
      ]
    },
    {
      "cell_type": "code",
      "execution_count": 17,
      "metadata": {
        "id": "q8oGZy2Rx777"
      },
      "outputs": [],
      "source": [
        "# Output layer\n",
        "\n",
        "prediction = Dense(4,activation='softmax')(x)"
      ]
    },
    {
      "cell_type": "code",
      "execution_count": 18,
      "metadata": {
        "id": "siUGP7oIyN9C"
      },
      "outputs": [],
      "source": [
        "# Create Vgg16 model\n",
        "\n",
        "model = Model(inputs=vgg.input,outputs=prediction)"
      ]
    },
    {
      "cell_type": "code",
      "execution_count": 19,
      "metadata": {
        "colab": {
          "base_uri": "https://localhost:8080/"
        },
        "id": "3YvmH5Eyyxgh",
        "outputId": "3cc94325-ce07-43b4-8833-bf582cec7bf2"
      },
      "outputs": [
        {
          "name": "stdout",
          "output_type": "stream",
          "text": [
            "Model: \"model\"\n",
            "_________________________________________________________________\n",
            " Layer (type)                Output Shape              Param #   \n",
            "=================================================================\n",
            " input_1 (InputLayer)        [(None, 224, 224, 3)]     0         \n",
            "                                                                 \n",
            " block1_conv1 (Conv2D)       (None, 224, 224, 64)      1792      \n",
            "                                                                 \n",
            " block1_conv2 (Conv2D)       (None, 224, 224, 64)      36928     \n",
            "                                                                 \n",
            " block1_pool (MaxPooling2D)  (None, 112, 112, 64)      0         \n",
            "                                                                 \n",
            " block2_conv1 (Conv2D)       (None, 112, 112, 128)     73856     \n",
            "                                                                 \n",
            " block2_conv2 (Conv2D)       (None, 112, 112, 128)     147584    \n",
            "                                                                 \n",
            " block2_pool (MaxPooling2D)  (None, 56, 56, 128)       0         \n",
            "                                                                 \n",
            " block3_conv1 (Conv2D)       (None, 56, 56, 256)       295168    \n",
            "                                                                 \n",
            " block3_conv2 (Conv2D)       (None, 56, 56, 256)       590080    \n",
            "                                                                 \n",
            " block3_conv3 (Conv2D)       (None, 56, 56, 256)       590080    \n",
            "                                                                 \n",
            " block3_pool (MaxPooling2D)  (None, 28, 28, 256)       0         \n",
            "                                                                 \n",
            " block4_conv1 (Conv2D)       (None, 28, 28, 512)       1180160   \n",
            "                                                                 \n",
            " block4_conv2 (Conv2D)       (None, 28, 28, 512)       2359808   \n",
            "                                                                 \n",
            " block4_conv3 (Conv2D)       (None, 28, 28, 512)       2359808   \n",
            "                                                                 \n",
            " block4_pool (MaxPooling2D)  (None, 14, 14, 512)       0         \n",
            "                                                                 \n",
            " block5_conv1 (Conv2D)       (None, 14, 14, 512)       2359808   \n",
            "                                                                 \n",
            " block5_conv2 (Conv2D)       (None, 14, 14, 512)       2359808   \n",
            "                                                                 \n",
            " block5_conv3 (Conv2D)       (None, 14, 14, 512)       2359808   \n",
            "                                                                 \n",
            " block5_pool (MaxPooling2D)  (None, 7, 7, 512)         0         \n",
            "                                                                 \n",
            " flatten (Flatten)           (None, 25088)             0         \n",
            "                                                                 \n",
            " dense (Dense)               (None, 4)                 100356    \n",
            "                                                                 \n",
            "=================================================================\n",
            "Total params: 14,815,044\n",
            "Trainable params: 100,356\n",
            "Non-trainable params: 14,714,688\n",
            "_________________________________________________________________\n"
          ]
        }
      ],
      "source": [
        "model.summary()"
      ]
    },
    {
      "cell_type": "code",
      "execution_count": 20,
      "metadata": {
        "id": "8WS66zk1y0TK"
      },
      "outputs": [],
      "source": [
        "model.compile(loss='categorical_crossentropy',optimizer='adam',metrics=['accuracy'])"
      ]
    },
    {
      "cell_type": "code",
      "execution_count": 21,
      "metadata": {
        "colab": {
          "base_uri": "https://localhost:8080/"
        },
        "id": "kei55u2Nzc6x",
        "outputId": "805e8686-3336-49e1-f5f0-88897edcc35c"
      },
      "outputs": [
        {
          "name": "stderr",
          "output_type": "stream",
          "text": [
            "<ipython-input-21-c19f13cb6f36>:1: UserWarning: `Model.fit_generator` is deprecated and will be removed in a future version. Please use `Model.fit`, which supports generators.\n",
            "  model.fit_generator(train,validation_data=test,epochs=10,steps_per_epoch=len(train),validation_steps=len(test))\n"
          ]
        },
        {
          "name": "stdout",
          "output_type": "stream",
          "text": [
            "Epoch 1/10\n",
            "7/7 [==============================] - 253s 38s/step - loss: 6.1360 - accuracy: 0.0390 - val_loss: 6.0965 - val_accuracy: 0.0818\n",
            "Epoch 2/10\n",
            "7/7 [==============================] - 223s 35s/step - loss: 6.0888 - accuracy: 0.0714 - val_loss: 6.0963 - val_accuracy: 0.0818\n",
            "Epoch 3/10\n",
            "7/7 [==============================] - 170s 26s/step - loss: 6.1242 - accuracy: 0.0584 - val_loss: 6.1551 - val_accuracy: 0.0629\n",
            "Epoch 4/10\n",
            "7/7 [==============================] - 168s 25s/step - loss: 6.1383 - accuracy: 0.0325 - val_loss: 6.1112 - val_accuracy: 0.0818\n",
            "Epoch 5/10\n",
            "7/7 [==============================] - 222s 34s/step - loss: 6.1159 - accuracy: 0.0714 - val_loss: 6.1185 - val_accuracy: 0.0818\n",
            "Epoch 6/10\n",
            "7/7 [==============================] - 167s 25s/step - loss: 6.1434 - accuracy: 0.0779 - val_loss: 6.1329 - val_accuracy: 0.0755\n",
            "Epoch 7/10\n",
            "7/7 [==============================] - 221s 34s/step - loss: 6.1217 - accuracy: 0.0649 - val_loss: 6.0936 - val_accuracy: 0.0818\n",
            "Epoch 8/10\n",
            "7/7 [==============================] - 225s 35s/step - loss: 6.1427 - accuracy: 0.0714 - val_loss: 6.1649 - val_accuracy: 0.0566\n",
            "Epoch 9/10\n",
            "7/7 [==============================] - 222s 35s/step - loss: 6.1413 - accuracy: 0.0649 - val_loss: 6.0675 - val_accuracy: 0.1258\n",
            "Epoch 10/10\n",
            "7/7 [==============================] - 170s 26s/step - loss: 6.1049 - accuracy: 0.0714 - val_loss: 6.1478 - val_accuracy: 0.0629\n"
          ]
        },
        {
          "data": {
            "text/plain": [
              "<keras.callbacks.History at 0x7f8fe6531f00>"
            ]
          },
          "execution_count": 21,
          "metadata": {},
          "output_type": "execute_result"
        }
      ],
      "source": [
        "model.fit_generator(train,validation_data=test,epochs=10,steps_per_epoch=len(train),validation_steps=len(test))"
      ]
    },
    {
      "cell_type": "code",
      "execution_count": 23,
      "metadata": {
        "id": "xQrxbb-cO-LF"
      },
      "outputs": [],
      "source": [
        "import numpy as np"
      ]
    },
    {
      "cell_type": "code",
      "execution_count": 25,
      "metadata": {
        "colab": {
          "base_uri": "https://localhost:8080/"
        },
        "id": "7XOvPaVp_uG5",
        "outputId": "dff51419-a157-4562-9bd5-6ad363366e18"
      },
      "outputs": [
        {
          "name": "stdout",
          "output_type": "stream",
          "text": [
            "1/1 [==============================] - 1s 679ms/step\n",
            "3\n",
            "cbrtsh\n"
          ]
        }
      ],
      "source": [
        "# Testing 1\n",
        "img1 = image.load_img('/content/drive/MyDrive/gretit.jpg',target_size=(224,224))\n",
        "img1 = image.img_to_array(img1)\n",
        "img1 = np.expand_dims(img1,axis=0)\n",
        "pred = np.argmax(model.predict(img1))\n",
        "print(pred)\n",
        "output = ['blasti','bonegl','brhkyt','cbrtsh','cmnmyn',\n",
        " 'gretit','hilpig','himbul','himgri','hsparo','indvul',\n",
        " 'jglowl','lbicrw','mgprob','rebimg','wcrsrt']\n",
        "print(output[pred])"
      ]
    },
    {
      "cell_type": "code",
      "execution_count": 26,
      "metadata": {
        "colab": {
          "base_uri": "https://localhost:8080/"
        },
        "id": "hFUYpKQg_t7d",
        "outputId": "6948dca7-74b1-47a2-cddc-b52a1a65f7c9"
      },
      "outputs": [
        {
          "name": "stdout",
          "output_type": "stream",
          "text": [
            "1/1 [==============================] - 0s 360ms/step\n",
            "3\n",
            "cbrtsh\n"
          ]
        }
      ],
      "source": [
        "# Testing 2\n",
        "img2 = image.load_img('/content/drive/MyDrive/jglowl.jpg',target_size=(224,224))\n",
        "img2 = image.img_to_array(img2)\n",
        "img2 = np.expand_dims(img2,axis=0)\n",
        "pred = np.argmax(model.predict(img2))\n",
        "print(pred)\n",
        "output = ['blasti','bonegl','brhkyt','cbrtsh','cmnmyn',\n",
        " 'gretit','hilpig','himbul','himgri','hsparo','indvul',\n",
        " 'jglowl','lbicrw','mgprob','rebimg','wcrsrt']\n",
        "print(output[pred])"
      ]
    },
    {
      "cell_type": "code",
      "execution_count": 28,
      "metadata": {
        "colab": {
          "base_uri": "https://localhost:8080/"
        },
        "id": "COZHqWel_tpO",
        "outputId": "b115dbf0-dc8c-42c1-c5cc-75df747bc229"
      },
      "outputs": [
        {
          "name": "stdout",
          "output_type": "stream",
          "text": [
            "1/1 [==============================] - 0s 367ms/step\n",
            "1\n",
            "bonegl\n"
          ]
        }
      ],
      "source": [
        "# Testing 3\n",
        "img3 = image.load_img('/content/drive/MyDrive/HimBul.jfif',target_size=(224,224))\n",
        "img3 = image.img_to_array(img3)\n",
        "img3 = np.expand_dims(img3,axis=0)\n",
        "pred = np.argmax(model.predict(img3))\n",
        "print(pred)\n",
        "output = ['blasti','bonegl','brhkyt','cbrtsh','cmnmyn',\n",
        " 'gretit','hilpig','himbul','himgri','hsparo','indvul',\n",
        " 'jglowl','lbicrw','mgprob','rebimg','wcrsrt']\n",
        "print(output[pred])"
      ]
    },
    {
      "attachments": {},
      "cell_type": "markdown",
      "metadata": {
        "id": "hjshZuwU2UdI"
      },
      "source": [
        "ResNet50\n"
      ]
    },
    {
      "cell_type": "code",
      "execution_count": 29,
      "metadata": {
        "id": "6WRQmKMOz9XF"
      },
      "outputs": [],
      "source": [
        "from tensorflow.keras.applications.resnet50 import ResNet50"
      ]
    },
    {
      "cell_type": "code",
      "execution_count": 31,
      "metadata": {
        "colab": {
          "base_uri": "https://localhost:8080/"
        },
        "id": "6our98JQ3eRt",
        "outputId": "e70d1b9e-2c60-4c63-e4d3-1a3f09318f35"
      },
      "outputs": [
        {
          "name": "stdout",
          "output_type": "stream",
          "text": [
            "Downloading data from https://storage.googleapis.com/tensorflow/keras-applications/resnet/resnet50_weights_tf_dim_ordering_tf_kernels_notop.h5\n",
            "94765736/94765736 [==============================] - 0s 0us/step\n"
          ]
        }
      ],
      "source": [
        "resnet = ResNet50(include_top=False,input_shape=(224,224,3))"
      ]
    },
    {
      "cell_type": "code",
      "execution_count": 32,
      "metadata": {
        "id": "VxoAAkQt4Q9x"
      },
      "outputs": [],
      "source": [
        "for layer in resnet.layers:\n",
        "  layer.trainable=False"
      ]
    },
    {
      "cell_type": "code",
      "execution_count": 46,
      "metadata": {
        "colab": {
          "base_uri": "https://localhost:8080/"
        },
        "id": "9rudH6IV42SS",
        "outputId": "6060bfaf-1d4d-4dea-f097-2d308265306a"
      },
      "outputs": [
        {
          "name": "stdout",
          "output_type": "stream",
          "text": [
            "<keras.engine.input_layer.InputLayer object at 0x7f8fe5bef970>\n",
            "<keras.layers.reshaping.zero_padding2d.ZeroPadding2D object at 0x7f8fe5beebc0>\n",
            "<keras.layers.convolutional.conv2d.Conv2D object at 0x7f8fe8e351b0>\n",
            "<keras.layers.normalization.batch_normalization.BatchNormalization object at 0x7f8fe5c00ac0>\n",
            "<keras.layers.core.activation.Activation object at 0x7f8fe5bef7c0>\n",
            "<keras.layers.reshaping.zero_padding2d.ZeroPadding2D object at 0x7f8fe5c33a60>\n",
            "<keras.layers.pooling.max_pooling2d.MaxPooling2D object at 0x7f8fe5998b80>\n",
            "<keras.layers.convolutional.conv2d.Conv2D object at 0x7f8fe8be1ba0>\n",
            "<keras.layers.normalization.batch_normalization.BatchNormalization object at 0x7f8fe41033a0>\n",
            "<keras.layers.core.activation.Activation object at 0x7f8fe85abcd0>\n",
            "<keras.layers.convolutional.conv2d.Conv2D object at 0x7f8fd272c970>\n",
            "<keras.layers.normalization.batch_normalization.BatchNormalization object at 0x7f8fd277dd20>\n",
            "<keras.layers.core.activation.Activation object at 0x7f8fd272ebf0>\n",
            "<keras.layers.convolutional.conv2d.Conv2D object at 0x7f8fe8df14e0>\n",
            "<keras.layers.convolutional.conv2d.Conv2D object at 0x7f8fe4112260>\n",
            "<keras.layers.normalization.batch_normalization.BatchNormalization object at 0x7f8fe599a650>\n",
            "<keras.layers.normalization.batch_normalization.BatchNormalization object at 0x7f8fe5c33220>\n",
            "<keras.layers.merging.add.Add object at 0x7f8fe4111600>\n",
            "<keras.layers.core.activation.Activation object at 0x7f8fe5c31150>\n",
            "<keras.layers.convolutional.conv2d.Conv2D object at 0x7f8fe5c338e0>\n",
            "<keras.layers.normalization.batch_normalization.BatchNormalization object at 0x7f8fe5c32ce0>\n",
            "<keras.layers.core.activation.Activation object at 0x7f8fe5c32020>\n",
            "<keras.layers.convolutional.conv2d.Conv2D object at 0x7f8fe5bee110>\n",
            "<keras.layers.normalization.batch_normalization.BatchNormalization object at 0x7f8fe5bedf30>\n",
            "<keras.layers.core.activation.Activation object at 0x7f8fe5bee500>\n",
            "<keras.layers.convolutional.conv2d.Conv2D object at 0x7f8fe5bed360>\n",
            "<keras.layers.normalization.batch_normalization.BatchNormalization object at 0x7f8fe5b6ab00>\n",
            "<keras.layers.merging.add.Add object at 0x7f8fe5b69390>\n",
            "<keras.layers.core.activation.Activation object at 0x7f8fe5b68850>\n",
            "<keras.layers.convolutional.conv2d.Conv2D object at 0x7f8fe5bec3a0>\n",
            "<keras.layers.normalization.batch_normalization.BatchNormalization object at 0x7f8fe5b68f70>\n",
            "<keras.layers.core.activation.Activation object at 0x7f8fe5b6bbe0>\n",
            "<keras.layers.convolutional.conv2d.Conv2D object at 0x7f8fe5b69d20>\n",
            "<keras.layers.normalization.batch_normalization.BatchNormalization object at 0x7f8fe5999000>\n",
            "<keras.layers.core.activation.Activation object at 0x7f8fe599b400>\n",
            "<keras.layers.convolutional.conv2d.Conv2D object at 0x7f8fe5999240>\n",
            "<keras.layers.normalization.batch_normalization.BatchNormalization object at 0x7f8fe59ddf30>\n",
            "<keras.layers.merging.add.Add object at 0x7f8fe59992a0>\n",
            "<keras.layers.core.activation.Activation object at 0x7f8fe59df310>\n",
            "<keras.layers.convolutional.conv2d.Conv2D object at 0x7f8fe59dece0>\n",
            "<keras.layers.normalization.batch_normalization.BatchNormalization object at 0x7f8fe59dfb50>\n",
            "<keras.layers.core.activation.Activation object at 0x7f8fe59dead0>\n",
            "<keras.layers.convolutional.conv2d.Conv2D object at 0x7f8fe59f6140>\n",
            "<keras.layers.normalization.batch_normalization.BatchNormalization object at 0x7f8fe59f75b0>\n",
            "<keras.layers.core.activation.Activation object at 0x7f8fe59f7370>\n",
            "<keras.layers.convolutional.conv2d.Conv2D object at 0x7f8fe59de620>\n",
            "<keras.layers.convolutional.conv2d.Conv2D object at 0x7f8fe59f5de0>\n",
            "<keras.layers.normalization.batch_normalization.BatchNormalization object at 0x7f8fe59df610>\n",
            "<keras.layers.normalization.batch_normalization.BatchNormalization object at 0x7f8fe59f6f50>\n",
            "<keras.layers.merging.add.Add object at 0x7f8fe59dcd60>\n",
            "<keras.layers.core.activation.Activation object at 0x7f8fe59dd630>\n",
            "<keras.layers.convolutional.conv2d.Conv2D object at 0x7f8fe59f7f40>\n",
            "<keras.layers.normalization.batch_normalization.BatchNormalization object at 0x7f8fe5999ab0>\n",
            "<keras.layers.core.activation.Activation object at 0x7f8fe5b6a290>\n",
            "<keras.layers.convolutional.conv2d.Conv2D object at 0x7f8fe5b6b070>\n",
            "<keras.layers.normalization.batch_normalization.BatchNormalization object at 0x7f8fe59f6500>\n",
            "<keras.layers.core.activation.Activation object at 0x7f8fe5b690c0>\n",
            "<keras.layers.convolutional.conv2d.Conv2D object at 0x7f8fe5c32e30>\n",
            "<keras.layers.normalization.batch_normalization.BatchNormalization object at 0x7f8fe59f4b80>\n",
            "<keras.layers.merging.add.Add object at 0x7f8fe59f40a0>\n",
            "<keras.layers.core.activation.Activation object at 0x7f8fe5a18910>\n",
            "<keras.layers.convolutional.conv2d.Conv2D object at 0x7f8fe5a1a860>\n",
            "<keras.layers.normalization.batch_normalization.BatchNormalization object at 0x7f8fe5a1be50>\n",
            "<keras.layers.core.activation.Activation object at 0x7f8fe5a1ae30>\n",
            "<keras.layers.convolutional.conv2d.Conv2D object at 0x7f8fe5a1baf0>\n",
            "<keras.layers.normalization.batch_normalization.BatchNormalization object at 0x7f8fe5a19f60>\n",
            "<keras.layers.core.activation.Activation object at 0x7f8fe5a1bd90>\n",
            "<keras.layers.convolutional.conv2d.Conv2D object at 0x7f8fe5a2e350>\n",
            "<keras.layers.normalization.batch_normalization.BatchNormalization object at 0x7f8fe5a2f3a0>\n",
            "<keras.layers.merging.add.Add object at 0x7f8fe5a2e3e0>\n",
            "<keras.layers.core.activation.Activation object at 0x7f8fe5a2e3b0>\n",
            "<keras.layers.convolutional.conv2d.Conv2D object at 0x7f8fe5a2f0a0>\n",
            "<keras.layers.normalization.batch_normalization.BatchNormalization object at 0x7f8fe5a2ea70>\n",
            "<keras.layers.core.activation.Activation object at 0x7f8fe5a2e4d0>\n",
            "<keras.layers.convolutional.conv2d.Conv2D object at 0x7f8fe5a2f880>\n",
            "<keras.layers.normalization.batch_normalization.BatchNormalization object at 0x7f8fe5a4afe0>\n",
            "<keras.layers.core.activation.Activation object at 0x7f8fe5a4aa10>\n",
            "<keras.layers.convolutional.conv2d.Conv2D object at 0x7f8fe5a4bc10>\n",
            "<keras.layers.normalization.batch_normalization.BatchNormalization object at 0x7f8fe5a496c0>\n",
            "<keras.layers.merging.add.Add object at 0x7f8fe5a4bcd0>\n",
            "<keras.layers.core.activation.Activation object at 0x7f8fe5870af0>\n",
            "<keras.layers.convolutional.conv2d.Conv2D object at 0x7f8fe5872230>\n",
            "<keras.layers.normalization.batch_normalization.BatchNormalization object at 0x7f8fe5873be0>\n",
            "<keras.layers.core.activation.Activation object at 0x7f8fe5872500>\n",
            "<keras.layers.convolutional.conv2d.Conv2D object at 0x7f8fe5871900>\n",
            "<keras.layers.normalization.batch_normalization.BatchNormalization object at 0x7f8fe58724d0>\n",
            "<keras.layers.core.activation.Activation object at 0x7f8fe5a4a980>\n",
            "<keras.layers.convolutional.conv2d.Conv2D object at 0x7f8fe5871720>\n",
            "<keras.layers.convolutional.conv2d.Conv2D object at 0x7f8fe5a48a60>\n",
            "<keras.layers.normalization.batch_normalization.BatchNormalization object at 0x7f8fe58730a0>\n",
            "<keras.layers.normalization.batch_normalization.BatchNormalization object at 0x7f8fe5a48a90>\n",
            "<keras.layers.merging.add.Add object at 0x7f8fe5c329b0>\n",
            "<keras.layers.core.activation.Activation object at 0x7f8fe5a18df0>\n",
            "<keras.layers.convolutional.conv2d.Conv2D object at 0x7f8fe5a2c280>\n",
            "<keras.layers.normalization.batch_normalization.BatchNormalization object at 0x7f8fe5b6ac80>\n",
            "<keras.layers.core.activation.Activation object at 0x7f8fe5871300>\n",
            "<keras.layers.convolutional.conv2d.Conv2D object at 0x7f8fe59dd960>\n",
            "<keras.layers.normalization.batch_normalization.BatchNormalization object at 0x7f8fe5a1a050>\n",
            "<keras.layers.core.activation.Activation object at 0x7f8fe59ddbd0>\n",
            "<keras.layers.convolutional.conv2d.Conv2D object at 0x7f8fe5896920>\n",
            "<keras.layers.normalization.batch_normalization.BatchNormalization object at 0x7f8fe5897a60>\n",
            "<keras.layers.merging.add.Add object at 0x7f8fe5896aa0>\n",
            "<keras.layers.core.activation.Activation object at 0x7f8fe58972b0>\n",
            "<keras.layers.convolutional.conv2d.Conv2D object at 0x7f8fe58965f0>\n",
            "<keras.layers.normalization.batch_normalization.BatchNormalization object at 0x7f8fe58a9e70>\n",
            "<keras.layers.core.activation.Activation object at 0x7f8fe5897790>\n",
            "<keras.layers.convolutional.conv2d.Conv2D object at 0x7f8fe58aa2c0>\n",
            "<keras.layers.normalization.batch_normalization.BatchNormalization object at 0x7f8fe58ab6d0>\n",
            "<keras.layers.core.activation.Activation object at 0x7f8fe58ab370>\n",
            "<keras.layers.convolutional.conv2d.Conv2D object at 0x7f8fe58aa890>\n",
            "<keras.layers.normalization.batch_normalization.BatchNormalization object at 0x7f8fe58ab2b0>\n",
            "<keras.layers.merging.add.Add object at 0x7f8fe58ab100>\n",
            "<keras.layers.core.activation.Activation object at 0x7f8fe58c8370>\n",
            "<keras.layers.convolutional.conv2d.Conv2D object at 0x7f8fe58ca6e0>\n",
            "<keras.layers.normalization.batch_normalization.BatchNormalization object at 0x7f8fe58cb790>\n",
            "<keras.layers.core.activation.Activation object at 0x7f8fe58cabc0>\n",
            "<keras.layers.convolutional.conv2d.Conv2D object at 0x7f8fe58cbfa0>\n",
            "<keras.layers.normalization.batch_normalization.BatchNormalization object at 0x7f8fe58c8a90>\n",
            "<keras.layers.core.activation.Activation object at 0x7f8fe58c96c0>\n",
            "<keras.layers.convolutional.conv2d.Conv2D object at 0x7f8fe58edc90>\n",
            "<keras.layers.normalization.batch_normalization.BatchNormalization object at 0x7f8fe58eed10>\n",
            "<keras.layers.merging.add.Add object at 0x7f8fe58edd20>\n",
            "<keras.layers.core.activation.Activation object at 0x7f8fe58eea10>\n",
            "<keras.layers.convolutional.conv2d.Conv2D object at 0x7f8fe58efa00>\n",
            "<keras.layers.normalization.batch_normalization.BatchNormalization object at 0x7f8fe58ee950>\n",
            "<keras.layers.core.activation.Activation object at 0x7f8fe58ef5b0>\n",
            "<keras.layers.convolutional.conv2d.Conv2D object at 0x7f8fe58ef670>\n",
            "<keras.layers.normalization.batch_normalization.BatchNormalization object at 0x7f8fe58ee5f0>\n",
            "<keras.layers.core.activation.Activation object at 0x7f8fe58c9c00>\n",
            "<keras.layers.convolutional.conv2d.Conv2D object at 0x7f8fe58cbcd0>\n",
            "<keras.layers.normalization.batch_normalization.BatchNormalization object at 0x7f8fe58c9c30>\n",
            "<keras.layers.merging.add.Add object at 0x7f8fe5c33670>\n",
            "<keras.layers.core.activation.Activation object at 0x7f8fe5897070>\n",
            "<keras.layers.convolutional.conv2d.Conv2D object at 0x7f8fe58a9270>\n",
            "<keras.layers.normalization.batch_normalization.BatchNormalization object at 0x7f8fe59de230>\n",
            "<keras.layers.core.activation.Activation object at 0x7f8fe58710f0>\n",
            "<keras.layers.convolutional.conv2d.Conv2D object at 0x7f8fe5897400>\n",
            "<keras.layers.normalization.batch_normalization.BatchNormalization object at 0x7f8fe5a4b610>\n",
            "<keras.layers.core.activation.Activation object at 0x7f8fe5a2d390>\n",
            "<keras.layers.convolutional.conv2d.Conv2D object at 0x7f8fe5906fe0>\n",
            "<keras.layers.normalization.batch_normalization.BatchNormalization object at 0x7f8fe5906650>\n",
            "<keras.layers.merging.add.Add object at 0x7f8fe5907070>\n",
            "<keras.layers.core.activation.Activation object at 0x7f8fe5907880>\n",
            "<keras.layers.convolutional.conv2d.Conv2D object at 0x7f8fe5907100>\n",
            "<keras.layers.normalization.batch_normalization.BatchNormalization object at 0x7f8fe59273d0>\n",
            "<keras.layers.core.activation.Activation object at 0x7f8fe59255a0>\n",
            "<keras.layers.convolutional.conv2d.Conv2D object at 0x7f8fe5925c90>\n",
            "<keras.layers.normalization.batch_normalization.BatchNormalization object at 0x7f8fe5924dc0>\n",
            "<keras.layers.core.activation.Activation object at 0x7f8fe59260b0>\n",
            "<keras.layers.convolutional.conv2d.Conv2D object at 0x7f8fe5907d60>\n",
            "<keras.layers.convolutional.conv2d.Conv2D object at 0x7f8fe59423b0>\n",
            "<keras.layers.normalization.batch_normalization.BatchNormalization object at 0x7f8fe5926410>\n",
            "<keras.layers.normalization.batch_normalization.BatchNormalization object at 0x7f8fe5943400>\n",
            "<keras.layers.merging.add.Add object at 0x7f8fe5942440>\n",
            "<keras.layers.core.activation.Activation object at 0x7f8fe5943df0>\n",
            "<keras.layers.convolutional.conv2d.Conv2D object at 0x7f8fe59439a0>\n",
            "<keras.layers.normalization.batch_normalization.BatchNormalization object at 0x7f8fe5959840>\n",
            "<keras.layers.core.activation.Activation object at 0x7f8fe5943700>\n",
            "<keras.layers.convolutional.conv2d.Conv2D object at 0x7f8fe5959c90>\n",
            "<keras.layers.normalization.batch_normalization.BatchNormalization object at 0x7f8fe595b0a0>\n",
            "<keras.layers.core.activation.Activation object at 0x7f8fe595b520>\n",
            "<keras.layers.convolutional.conv2d.Conv2D object at 0x7f8fe595bcd0>\n",
            "<keras.layers.normalization.batch_normalization.BatchNormalization object at 0x7f8fe595aef0>\n",
            "<keras.layers.merging.add.Add object at 0x7f8fe595bd90>\n",
            "<keras.layers.core.activation.Activation object at 0x7f8fe5959e70>\n",
            "<keras.layers.convolutional.conv2d.Conv2D object at 0x7f8fe5959060>\n",
            "<keras.layers.normalization.batch_normalization.BatchNormalization object at 0x7f8fe595a0e0>\n",
            "<keras.layers.core.activation.Activation object at 0x7f8fe5941000>\n",
            "<keras.layers.convolutional.conv2d.Conv2D object at 0x7f8fe5943c70>\n",
            "<keras.layers.normalization.batch_normalization.BatchNormalization object at 0x7f8fe5959e40>\n",
            "<keras.layers.core.activation.Activation object at 0x7f8fe5925840>\n",
            "<keras.layers.convolutional.conv2d.Conv2D object at 0x7f8fe595afe0>\n",
            "<keras.layers.normalization.batch_normalization.BatchNormalization object at 0x7f8fe5904040>\n",
            "<keras.layers.merging.add.Add object at 0x7f8fe5a2dcf0>\n",
            "<keras.layers.core.activation.Activation object at 0x7f8fe58c84c0>\n"
          ]
        }
      ],
      "source": [
        "for layer in resnet.layers:\n",
        "  print(layer)"
      ]
    },
    {
      "cell_type": "code",
      "execution_count": 36,
      "metadata": {
        "id": "2SxvbdLA4nPt"
      },
      "outputs": [],
      "source": [
        "x = Flatten()(resnet.output)"
      ]
    },
    {
      "cell_type": "code",
      "execution_count": 37,
      "metadata": {
        "id": "nEXXn3k149C-"
      },
      "outputs": [],
      "source": [
        "out = Dense(4,activation='softmax')(x)"
      ]
    },
    {
      "cell_type": "code",
      "execution_count": 38,
      "metadata": {
        "id": "yl2AiiBY5VN_"
      },
      "outputs": [],
      "source": [
        "res_model=Model(inputs=resnet.input,outputs=out)"
      ]
    },
    {
      "cell_type": "code",
      "execution_count": 39,
      "metadata": {
        "colab": {
          "base_uri": "https://localhost:8080/"
        },
        "id": "W7Ec_3rc50MD",
        "outputId": "68fd390e-9463-445d-ac3e-18c4c668ba58"
      },
      "outputs": [
        {
          "name": "stdout",
          "output_type": "stream",
          "text": [
            "Model: \"model_1\"\n",
            "__________________________________________________________________________________________________\n",
            " Layer (type)                   Output Shape         Param #     Connected to                     \n",
            "==================================================================================================\n",
            " input_2 (InputLayer)           [(None, 224, 224, 3  0           []                               \n",
            "                                )]                                                                \n",
            "                                                                                                  \n",
            " conv1_pad (ZeroPadding2D)      (None, 230, 230, 3)  0           ['input_2[0][0]']                \n",
            "                                                                                                  \n",
            " conv1_conv (Conv2D)            (None, 112, 112, 64  9472        ['conv1_pad[0][0]']              \n",
            "                                )                                                                 \n",
            "                                                                                                  \n",
            " conv1_bn (BatchNormalization)  (None, 112, 112, 64  256         ['conv1_conv[0][0]']             \n",
            "                                )                                                                 \n",
            "                                                                                                  \n",
            " conv1_relu (Activation)        (None, 112, 112, 64  0           ['conv1_bn[0][0]']               \n",
            "                                )                                                                 \n",
            "                                                                                                  \n",
            " pool1_pad (ZeroPadding2D)      (None, 114, 114, 64  0           ['conv1_relu[0][0]']             \n",
            "                                )                                                                 \n",
            "                                                                                                  \n",
            " pool1_pool (MaxPooling2D)      (None, 56, 56, 64)   0           ['pool1_pad[0][0]']              \n",
            "                                                                                                  \n",
            " conv2_block1_1_conv (Conv2D)   (None, 56, 56, 64)   4160        ['pool1_pool[0][0]']             \n",
            "                                                                                                  \n",
            " conv2_block1_1_bn (BatchNormal  (None, 56, 56, 64)  256         ['conv2_block1_1_conv[0][0]']    \n",
            " ization)                                                                                         \n",
            "                                                                                                  \n",
            " conv2_block1_1_relu (Activatio  (None, 56, 56, 64)  0           ['conv2_block1_1_bn[0][0]']      \n",
            " n)                                                                                               \n",
            "                                                                                                  \n",
            " conv2_block1_2_conv (Conv2D)   (None, 56, 56, 64)   36928       ['conv2_block1_1_relu[0][0]']    \n",
            "                                                                                                  \n",
            " conv2_block1_2_bn (BatchNormal  (None, 56, 56, 64)  256         ['conv2_block1_2_conv[0][0]']    \n",
            " ization)                                                                                         \n",
            "                                                                                                  \n",
            " conv2_block1_2_relu (Activatio  (None, 56, 56, 64)  0           ['conv2_block1_2_bn[0][0]']      \n",
            " n)                                                                                               \n",
            "                                                                                                  \n",
            " conv2_block1_0_conv (Conv2D)   (None, 56, 56, 256)  16640       ['pool1_pool[0][0]']             \n",
            "                                                                                                  \n",
            " conv2_block1_3_conv (Conv2D)   (None, 56, 56, 256)  16640       ['conv2_block1_2_relu[0][0]']    \n",
            "                                                                                                  \n",
            " conv2_block1_0_bn (BatchNormal  (None, 56, 56, 256)  1024       ['conv2_block1_0_conv[0][0]']    \n",
            " ization)                                                                                         \n",
            "                                                                                                  \n",
            " conv2_block1_3_bn (BatchNormal  (None, 56, 56, 256)  1024       ['conv2_block1_3_conv[0][0]']    \n",
            " ization)                                                                                         \n",
            "                                                                                                  \n",
            " conv2_block1_add (Add)         (None, 56, 56, 256)  0           ['conv2_block1_0_bn[0][0]',      \n",
            "                                                                  'conv2_block1_3_bn[0][0]']      \n",
            "                                                                                                  \n",
            " conv2_block1_out (Activation)  (None, 56, 56, 256)  0           ['conv2_block1_add[0][0]']       \n",
            "                                                                                                  \n",
            " conv2_block2_1_conv (Conv2D)   (None, 56, 56, 64)   16448       ['conv2_block1_out[0][0]']       \n",
            "                                                                                                  \n",
            " conv2_block2_1_bn (BatchNormal  (None, 56, 56, 64)  256         ['conv2_block2_1_conv[0][0]']    \n",
            " ization)                                                                                         \n",
            "                                                                                                  \n",
            " conv2_block2_1_relu (Activatio  (None, 56, 56, 64)  0           ['conv2_block2_1_bn[0][0]']      \n",
            " n)                                                                                               \n",
            "                                                                                                  \n",
            " conv2_block2_2_conv (Conv2D)   (None, 56, 56, 64)   36928       ['conv2_block2_1_relu[0][0]']    \n",
            "                                                                                                  \n",
            " conv2_block2_2_bn (BatchNormal  (None, 56, 56, 64)  256         ['conv2_block2_2_conv[0][0]']    \n",
            " ization)                                                                                         \n",
            "                                                                                                  \n",
            " conv2_block2_2_relu (Activatio  (None, 56, 56, 64)  0           ['conv2_block2_2_bn[0][0]']      \n",
            " n)                                                                                               \n",
            "                                                                                                  \n",
            " conv2_block2_3_conv (Conv2D)   (None, 56, 56, 256)  16640       ['conv2_block2_2_relu[0][0]']    \n",
            "                                                                                                  \n",
            " conv2_block2_3_bn (BatchNormal  (None, 56, 56, 256)  1024       ['conv2_block2_3_conv[0][0]']    \n",
            " ization)                                                                                         \n",
            "                                                                                                  \n",
            " conv2_block2_add (Add)         (None, 56, 56, 256)  0           ['conv2_block1_out[0][0]',       \n",
            "                                                                  'conv2_block2_3_bn[0][0]']      \n",
            "                                                                                                  \n",
            " conv2_block2_out (Activation)  (None, 56, 56, 256)  0           ['conv2_block2_add[0][0]']       \n",
            "                                                                                                  \n",
            " conv2_block3_1_conv (Conv2D)   (None, 56, 56, 64)   16448       ['conv2_block2_out[0][0]']       \n",
            "                                                                                                  \n",
            " conv2_block3_1_bn (BatchNormal  (None, 56, 56, 64)  256         ['conv2_block3_1_conv[0][0]']    \n",
            " ization)                                                                                         \n",
            "                                                                                                  \n",
            " conv2_block3_1_relu (Activatio  (None, 56, 56, 64)  0           ['conv2_block3_1_bn[0][0]']      \n",
            " n)                                                                                               \n",
            "                                                                                                  \n",
            " conv2_block3_2_conv (Conv2D)   (None, 56, 56, 64)   36928       ['conv2_block3_1_relu[0][0]']    \n",
            "                                                                                                  \n",
            " conv2_block3_2_bn (BatchNormal  (None, 56, 56, 64)  256         ['conv2_block3_2_conv[0][0]']    \n",
            " ization)                                                                                         \n",
            "                                                                                                  \n",
            " conv2_block3_2_relu (Activatio  (None, 56, 56, 64)  0           ['conv2_block3_2_bn[0][0]']      \n",
            " n)                                                                                               \n",
            "                                                                                                  \n",
            " conv2_block3_3_conv (Conv2D)   (None, 56, 56, 256)  16640       ['conv2_block3_2_relu[0][0]']    \n",
            "                                                                                                  \n",
            " conv2_block3_3_bn (BatchNormal  (None, 56, 56, 256)  1024       ['conv2_block3_3_conv[0][0]']    \n",
            " ization)                                                                                         \n",
            "                                                                                                  \n",
            " conv2_block3_add (Add)         (None, 56, 56, 256)  0           ['conv2_block2_out[0][0]',       \n",
            "                                                                  'conv2_block3_3_bn[0][0]']      \n",
            "                                                                                                  \n",
            " conv2_block3_out (Activation)  (None, 56, 56, 256)  0           ['conv2_block3_add[0][0]']       \n",
            "                                                                                                  \n",
            " conv3_block1_1_conv (Conv2D)   (None, 28, 28, 128)  32896       ['conv2_block3_out[0][0]']       \n",
            "                                                                                                  \n",
            " conv3_block1_1_bn (BatchNormal  (None, 28, 28, 128)  512        ['conv3_block1_1_conv[0][0]']    \n",
            " ization)                                                                                         \n",
            "                                                                                                  \n",
            " conv3_block1_1_relu (Activatio  (None, 28, 28, 128)  0          ['conv3_block1_1_bn[0][0]']      \n",
            " n)                                                                                               \n",
            "                                                                                                  \n",
            " conv3_block1_2_conv (Conv2D)   (None, 28, 28, 128)  147584      ['conv3_block1_1_relu[0][0]']    \n",
            "                                                                                                  \n",
            " conv3_block1_2_bn (BatchNormal  (None, 28, 28, 128)  512        ['conv3_block1_2_conv[0][0]']    \n",
            " ization)                                                                                         \n",
            "                                                                                                  \n",
            " conv3_block1_2_relu (Activatio  (None, 28, 28, 128)  0          ['conv3_block1_2_bn[0][0]']      \n",
            " n)                                                                                               \n",
            "                                                                                                  \n",
            " conv3_block1_0_conv (Conv2D)   (None, 28, 28, 512)  131584      ['conv2_block3_out[0][0]']       \n",
            "                                                                                                  \n",
            " conv3_block1_3_conv (Conv2D)   (None, 28, 28, 512)  66048       ['conv3_block1_2_relu[0][0]']    \n",
            "                                                                                                  \n",
            " conv3_block1_0_bn (BatchNormal  (None, 28, 28, 512)  2048       ['conv3_block1_0_conv[0][0]']    \n",
            " ization)                                                                                         \n",
            "                                                                                                  \n",
            " conv3_block1_3_bn (BatchNormal  (None, 28, 28, 512)  2048       ['conv3_block1_3_conv[0][0]']    \n",
            " ization)                                                                                         \n",
            "                                                                                                  \n",
            " conv3_block1_add (Add)         (None, 28, 28, 512)  0           ['conv3_block1_0_bn[0][0]',      \n",
            "                                                                  'conv3_block1_3_bn[0][0]']      \n",
            "                                                                                                  \n",
            " conv3_block1_out (Activation)  (None, 28, 28, 512)  0           ['conv3_block1_add[0][0]']       \n",
            "                                                                                                  \n",
            " conv3_block2_1_conv (Conv2D)   (None, 28, 28, 128)  65664       ['conv3_block1_out[0][0]']       \n",
            "                                                                                                  \n",
            " conv3_block2_1_bn (BatchNormal  (None, 28, 28, 128)  512        ['conv3_block2_1_conv[0][0]']    \n",
            " ization)                                                                                         \n",
            "                                                                                                  \n",
            " conv3_block2_1_relu (Activatio  (None, 28, 28, 128)  0          ['conv3_block2_1_bn[0][0]']      \n",
            " n)                                                                                               \n",
            "                                                                                                  \n",
            " conv3_block2_2_conv (Conv2D)   (None, 28, 28, 128)  147584      ['conv3_block2_1_relu[0][0]']    \n",
            "                                                                                                  \n",
            " conv3_block2_2_bn (BatchNormal  (None, 28, 28, 128)  512        ['conv3_block2_2_conv[0][0]']    \n",
            " ization)                                                                                         \n",
            "                                                                                                  \n",
            " conv3_block2_2_relu (Activatio  (None, 28, 28, 128)  0          ['conv3_block2_2_bn[0][0]']      \n",
            " n)                                                                                               \n",
            "                                                                                                  \n",
            " conv3_block2_3_conv (Conv2D)   (None, 28, 28, 512)  66048       ['conv3_block2_2_relu[0][0]']    \n",
            "                                                                                                  \n",
            " conv3_block2_3_bn (BatchNormal  (None, 28, 28, 512)  2048       ['conv3_block2_3_conv[0][0]']    \n",
            " ization)                                                                                         \n",
            "                                                                                                  \n",
            " conv3_block2_add (Add)         (None, 28, 28, 512)  0           ['conv3_block1_out[0][0]',       \n",
            "                                                                  'conv3_block2_3_bn[0][0]']      \n",
            "                                                                                                  \n",
            " conv3_block2_out (Activation)  (None, 28, 28, 512)  0           ['conv3_block2_add[0][0]']       \n",
            "                                                                                                  \n",
            " conv3_block3_1_conv (Conv2D)   (None, 28, 28, 128)  65664       ['conv3_block2_out[0][0]']       \n",
            "                                                                                                  \n",
            " conv3_block3_1_bn (BatchNormal  (None, 28, 28, 128)  512        ['conv3_block3_1_conv[0][0]']    \n",
            " ization)                                                                                         \n",
            "                                                                                                  \n",
            " conv3_block3_1_relu (Activatio  (None, 28, 28, 128)  0          ['conv3_block3_1_bn[0][0]']      \n",
            " n)                                                                                               \n",
            "                                                                                                  \n",
            " conv3_block3_2_conv (Conv2D)   (None, 28, 28, 128)  147584      ['conv3_block3_1_relu[0][0]']    \n",
            "                                                                                                  \n",
            " conv3_block3_2_bn (BatchNormal  (None, 28, 28, 128)  512        ['conv3_block3_2_conv[0][0]']    \n",
            " ization)                                                                                         \n",
            "                                                                                                  \n",
            " conv3_block3_2_relu (Activatio  (None, 28, 28, 128)  0          ['conv3_block3_2_bn[0][0]']      \n",
            " n)                                                                                               \n",
            "                                                                                                  \n",
            " conv3_block3_3_conv (Conv2D)   (None, 28, 28, 512)  66048       ['conv3_block3_2_relu[0][0]']    \n",
            "                                                                                                  \n",
            " conv3_block3_3_bn (BatchNormal  (None, 28, 28, 512)  2048       ['conv3_block3_3_conv[0][0]']    \n",
            " ization)                                                                                         \n",
            "                                                                                                  \n",
            " conv3_block3_add (Add)         (None, 28, 28, 512)  0           ['conv3_block2_out[0][0]',       \n",
            "                                                                  'conv3_block3_3_bn[0][0]']      \n",
            "                                                                                                  \n",
            " conv3_block3_out (Activation)  (None, 28, 28, 512)  0           ['conv3_block3_add[0][0]']       \n",
            "                                                                                                  \n",
            " conv3_block4_1_conv (Conv2D)   (None, 28, 28, 128)  65664       ['conv3_block3_out[0][0]']       \n",
            "                                                                                                  \n",
            " conv3_block4_1_bn (BatchNormal  (None, 28, 28, 128)  512        ['conv3_block4_1_conv[0][0]']    \n",
            " ization)                                                                                         \n",
            "                                                                                                  \n",
            " conv3_block4_1_relu (Activatio  (None, 28, 28, 128)  0          ['conv3_block4_1_bn[0][0]']      \n",
            " n)                                                                                               \n",
            "                                                                                                  \n",
            " conv3_block4_2_conv (Conv2D)   (None, 28, 28, 128)  147584      ['conv3_block4_1_relu[0][0]']    \n",
            "                                                                                                  \n",
            " conv3_block4_2_bn (BatchNormal  (None, 28, 28, 128)  512        ['conv3_block4_2_conv[0][0]']    \n",
            " ization)                                                                                         \n",
            "                                                                                                  \n",
            " conv3_block4_2_relu (Activatio  (None, 28, 28, 128)  0          ['conv3_block4_2_bn[0][0]']      \n",
            " n)                                                                                               \n",
            "                                                                                                  \n",
            " conv3_block4_3_conv (Conv2D)   (None, 28, 28, 512)  66048       ['conv3_block4_2_relu[0][0]']    \n",
            "                                                                                                  \n",
            " conv3_block4_3_bn (BatchNormal  (None, 28, 28, 512)  2048       ['conv3_block4_3_conv[0][0]']    \n",
            " ization)                                                                                         \n",
            "                                                                                                  \n",
            " conv3_block4_add (Add)         (None, 28, 28, 512)  0           ['conv3_block3_out[0][0]',       \n",
            "                                                                  'conv3_block4_3_bn[0][0]']      \n",
            "                                                                                                  \n",
            " conv3_block4_out (Activation)  (None, 28, 28, 512)  0           ['conv3_block4_add[0][0]']       \n",
            "                                                                                                  \n",
            " conv4_block1_1_conv (Conv2D)   (None, 14, 14, 256)  131328      ['conv3_block4_out[0][0]']       \n",
            "                                                                                                  \n",
            " conv4_block1_1_bn (BatchNormal  (None, 14, 14, 256)  1024       ['conv4_block1_1_conv[0][0]']    \n",
            " ization)                                                                                         \n",
            "                                                                                                  \n",
            " conv4_block1_1_relu (Activatio  (None, 14, 14, 256)  0          ['conv4_block1_1_bn[0][0]']      \n",
            " n)                                                                                               \n",
            "                                                                                                  \n",
            " conv4_block1_2_conv (Conv2D)   (None, 14, 14, 256)  590080      ['conv4_block1_1_relu[0][0]']    \n",
            "                                                                                                  \n",
            " conv4_block1_2_bn (BatchNormal  (None, 14, 14, 256)  1024       ['conv4_block1_2_conv[0][0]']    \n",
            " ization)                                                                                         \n",
            "                                                                                                  \n",
            " conv4_block1_2_relu (Activatio  (None, 14, 14, 256)  0          ['conv4_block1_2_bn[0][0]']      \n",
            " n)                                                                                               \n",
            "                                                                                                  \n",
            " conv4_block1_0_conv (Conv2D)   (None, 14, 14, 1024  525312      ['conv3_block4_out[0][0]']       \n",
            "                                )                                                                 \n",
            "                                                                                                  \n",
            " conv4_block1_3_conv (Conv2D)   (None, 14, 14, 1024  263168      ['conv4_block1_2_relu[0][0]']    \n",
            "                                )                                                                 \n",
            "                                                                                                  \n",
            " conv4_block1_0_bn (BatchNormal  (None, 14, 14, 1024  4096       ['conv4_block1_0_conv[0][0]']    \n",
            " ization)                       )                                                                 \n",
            "                                                                                                  \n",
            " conv4_block1_3_bn (BatchNormal  (None, 14, 14, 1024  4096       ['conv4_block1_3_conv[0][0]']    \n",
            " ization)                       )                                                                 \n",
            "                                                                                                  \n",
            " conv4_block1_add (Add)         (None, 14, 14, 1024  0           ['conv4_block1_0_bn[0][0]',      \n",
            "                                )                                 'conv4_block1_3_bn[0][0]']      \n",
            "                                                                                                  \n",
            " conv4_block1_out (Activation)  (None, 14, 14, 1024  0           ['conv4_block1_add[0][0]']       \n",
            "                                )                                                                 \n",
            "                                                                                                  \n",
            " conv4_block2_1_conv (Conv2D)   (None, 14, 14, 256)  262400      ['conv4_block1_out[0][0]']       \n",
            "                                                                                                  \n",
            " conv4_block2_1_bn (BatchNormal  (None, 14, 14, 256)  1024       ['conv4_block2_1_conv[0][0]']    \n",
            " ization)                                                                                         \n",
            "                                                                                                  \n",
            " conv4_block2_1_relu (Activatio  (None, 14, 14, 256)  0          ['conv4_block2_1_bn[0][0]']      \n",
            " n)                                                                                               \n",
            "                                                                                                  \n",
            " conv4_block2_2_conv (Conv2D)   (None, 14, 14, 256)  590080      ['conv4_block2_1_relu[0][0]']    \n",
            "                                                                                                  \n",
            " conv4_block2_2_bn (BatchNormal  (None, 14, 14, 256)  1024       ['conv4_block2_2_conv[0][0]']    \n",
            " ization)                                                                                         \n",
            "                                                                                                  \n",
            " conv4_block2_2_relu (Activatio  (None, 14, 14, 256)  0          ['conv4_block2_2_bn[0][0]']      \n",
            " n)                                                                                               \n",
            "                                                                                                  \n",
            " conv4_block2_3_conv (Conv2D)   (None, 14, 14, 1024  263168      ['conv4_block2_2_relu[0][0]']    \n",
            "                                )                                                                 \n",
            "                                                                                                  \n",
            " conv4_block2_3_bn (BatchNormal  (None, 14, 14, 1024  4096       ['conv4_block2_3_conv[0][0]']    \n",
            " ization)                       )                                                                 \n",
            "                                                                                                  \n",
            " conv4_block2_add (Add)         (None, 14, 14, 1024  0           ['conv4_block1_out[0][0]',       \n",
            "                                )                                 'conv4_block2_3_bn[0][0]']      \n",
            "                                                                                                  \n",
            " conv4_block2_out (Activation)  (None, 14, 14, 1024  0           ['conv4_block2_add[0][0]']       \n",
            "                                )                                                                 \n",
            "                                                                                                  \n",
            " conv4_block3_1_conv (Conv2D)   (None, 14, 14, 256)  262400      ['conv4_block2_out[0][0]']       \n",
            "                                                                                                  \n",
            " conv4_block3_1_bn (BatchNormal  (None, 14, 14, 256)  1024       ['conv4_block3_1_conv[0][0]']    \n",
            " ization)                                                                                         \n",
            "                                                                                                  \n",
            " conv4_block3_1_relu (Activatio  (None, 14, 14, 256)  0          ['conv4_block3_1_bn[0][0]']      \n",
            " n)                                                                                               \n",
            "                                                                                                  \n",
            " conv4_block3_2_conv (Conv2D)   (None, 14, 14, 256)  590080      ['conv4_block3_1_relu[0][0]']    \n",
            "                                                                                                  \n",
            " conv4_block3_2_bn (BatchNormal  (None, 14, 14, 256)  1024       ['conv4_block3_2_conv[0][0]']    \n",
            " ization)                                                                                         \n",
            "                                                                                                  \n",
            " conv4_block3_2_relu (Activatio  (None, 14, 14, 256)  0          ['conv4_block3_2_bn[0][0]']      \n",
            " n)                                                                                               \n",
            "                                                                                                  \n",
            " conv4_block3_3_conv (Conv2D)   (None, 14, 14, 1024  263168      ['conv4_block3_2_relu[0][0]']    \n",
            "                                )                                                                 \n",
            "                                                                                                  \n",
            " conv4_block3_3_bn (BatchNormal  (None, 14, 14, 1024  4096       ['conv4_block3_3_conv[0][0]']    \n",
            " ization)                       )                                                                 \n",
            "                                                                                                  \n",
            " conv4_block3_add (Add)         (None, 14, 14, 1024  0           ['conv4_block2_out[0][0]',       \n",
            "                                )                                 'conv4_block3_3_bn[0][0]']      \n",
            "                                                                                                  \n",
            " conv4_block3_out (Activation)  (None, 14, 14, 1024  0           ['conv4_block3_add[0][0]']       \n",
            "                                )                                                                 \n",
            "                                                                                                  \n",
            " conv4_block4_1_conv (Conv2D)   (None, 14, 14, 256)  262400      ['conv4_block3_out[0][0]']       \n",
            "                                                                                                  \n",
            " conv4_block4_1_bn (BatchNormal  (None, 14, 14, 256)  1024       ['conv4_block4_1_conv[0][0]']    \n",
            " ization)                                                                                         \n",
            "                                                                                                  \n",
            " conv4_block4_1_relu (Activatio  (None, 14, 14, 256)  0          ['conv4_block4_1_bn[0][0]']      \n",
            " n)                                                                                               \n",
            "                                                                                                  \n",
            " conv4_block4_2_conv (Conv2D)   (None, 14, 14, 256)  590080      ['conv4_block4_1_relu[0][0]']    \n",
            "                                                                                                  \n",
            " conv4_block4_2_bn (BatchNormal  (None, 14, 14, 256)  1024       ['conv4_block4_2_conv[0][0]']    \n",
            " ization)                                                                                         \n",
            "                                                                                                  \n",
            " conv4_block4_2_relu (Activatio  (None, 14, 14, 256)  0          ['conv4_block4_2_bn[0][0]']      \n",
            " n)                                                                                               \n",
            "                                                                                                  \n",
            " conv4_block4_3_conv (Conv2D)   (None, 14, 14, 1024  263168      ['conv4_block4_2_relu[0][0]']    \n",
            "                                )                                                                 \n",
            "                                                                                                  \n",
            " conv4_block4_3_bn (BatchNormal  (None, 14, 14, 1024  4096       ['conv4_block4_3_conv[0][0]']    \n",
            " ization)                       )                                                                 \n",
            "                                                                                                  \n",
            " conv4_block4_add (Add)         (None, 14, 14, 1024  0           ['conv4_block3_out[0][0]',       \n",
            "                                )                                 'conv4_block4_3_bn[0][0]']      \n",
            "                                                                                                  \n",
            " conv4_block4_out (Activation)  (None, 14, 14, 1024  0           ['conv4_block4_add[0][0]']       \n",
            "                                )                                                                 \n",
            "                                                                                                  \n",
            " conv4_block5_1_conv (Conv2D)   (None, 14, 14, 256)  262400      ['conv4_block4_out[0][0]']       \n",
            "                                                                                                  \n",
            " conv4_block5_1_bn (BatchNormal  (None, 14, 14, 256)  1024       ['conv4_block5_1_conv[0][0]']    \n",
            " ization)                                                                                         \n",
            "                                                                                                  \n",
            " conv4_block5_1_relu (Activatio  (None, 14, 14, 256)  0          ['conv4_block5_1_bn[0][0]']      \n",
            " n)                                                                                               \n",
            "                                                                                                  \n",
            " conv4_block5_2_conv (Conv2D)   (None, 14, 14, 256)  590080      ['conv4_block5_1_relu[0][0]']    \n",
            "                                                                                                  \n",
            " conv4_block5_2_bn (BatchNormal  (None, 14, 14, 256)  1024       ['conv4_block5_2_conv[0][0]']    \n",
            " ization)                                                                                         \n",
            "                                                                                                  \n",
            " conv4_block5_2_relu (Activatio  (None, 14, 14, 256)  0          ['conv4_block5_2_bn[0][0]']      \n",
            " n)                                                                                               \n",
            "                                                                                                  \n",
            " conv4_block5_3_conv (Conv2D)   (None, 14, 14, 1024  263168      ['conv4_block5_2_relu[0][0]']    \n",
            "                                )                                                                 \n",
            "                                                                                                  \n",
            " conv4_block5_3_bn (BatchNormal  (None, 14, 14, 1024  4096       ['conv4_block5_3_conv[0][0]']    \n",
            " ization)                       )                                                                 \n",
            "                                                                                                  \n",
            " conv4_block5_add (Add)         (None, 14, 14, 1024  0           ['conv4_block4_out[0][0]',       \n",
            "                                )                                 'conv4_block5_3_bn[0][0]']      \n",
            "                                                                                                  \n",
            " conv4_block5_out (Activation)  (None, 14, 14, 1024  0           ['conv4_block5_add[0][0]']       \n",
            "                                )                                                                 \n",
            "                                                                                                  \n",
            " conv4_block6_1_conv (Conv2D)   (None, 14, 14, 256)  262400      ['conv4_block5_out[0][0]']       \n",
            "                                                                                                  \n",
            " conv4_block6_1_bn (BatchNormal  (None, 14, 14, 256)  1024       ['conv4_block6_1_conv[0][0]']    \n",
            " ization)                                                                                         \n",
            "                                                                                                  \n",
            " conv4_block6_1_relu (Activatio  (None, 14, 14, 256)  0          ['conv4_block6_1_bn[0][0]']      \n",
            " n)                                                                                               \n",
            "                                                                                                  \n",
            " conv4_block6_2_conv (Conv2D)   (None, 14, 14, 256)  590080      ['conv4_block6_1_relu[0][0]']    \n",
            "                                                                                                  \n",
            " conv4_block6_2_bn (BatchNormal  (None, 14, 14, 256)  1024       ['conv4_block6_2_conv[0][0]']    \n",
            " ization)                                                                                         \n",
            "                                                                                                  \n",
            " conv4_block6_2_relu (Activatio  (None, 14, 14, 256)  0          ['conv4_block6_2_bn[0][0]']      \n",
            " n)                                                                                               \n",
            "                                                                                                  \n",
            " conv4_block6_3_conv (Conv2D)   (None, 14, 14, 1024  263168      ['conv4_block6_2_relu[0][0]']    \n",
            "                                )                                                                 \n",
            "                                                                                                  \n",
            " conv4_block6_3_bn (BatchNormal  (None, 14, 14, 1024  4096       ['conv4_block6_3_conv[0][0]']    \n",
            " ization)                       )                                                                 \n",
            "                                                                                                  \n",
            " conv4_block6_add (Add)         (None, 14, 14, 1024  0           ['conv4_block5_out[0][0]',       \n",
            "                                )                                 'conv4_block6_3_bn[0][0]']      \n",
            "                                                                                                  \n",
            " conv4_block6_out (Activation)  (None, 14, 14, 1024  0           ['conv4_block6_add[0][0]']       \n",
            "                                )                                                                 \n",
            "                                                                                                  \n",
            " conv5_block1_1_conv (Conv2D)   (None, 7, 7, 512)    524800      ['conv4_block6_out[0][0]']       \n",
            "                                                                                                  \n",
            " conv5_block1_1_bn (BatchNormal  (None, 7, 7, 512)   2048        ['conv5_block1_1_conv[0][0]']    \n",
            " ization)                                                                                         \n",
            "                                                                                                  \n",
            " conv5_block1_1_relu (Activatio  (None, 7, 7, 512)   0           ['conv5_block1_1_bn[0][0]']      \n",
            " n)                                                                                               \n",
            "                                                                                                  \n",
            " conv5_block1_2_conv (Conv2D)   (None, 7, 7, 512)    2359808     ['conv5_block1_1_relu[0][0]']    \n",
            "                                                                                                  \n",
            " conv5_block1_2_bn (BatchNormal  (None, 7, 7, 512)   2048        ['conv5_block1_2_conv[0][0]']    \n",
            " ization)                                                                                         \n",
            "                                                                                                  \n",
            " conv5_block1_2_relu (Activatio  (None, 7, 7, 512)   0           ['conv5_block1_2_bn[0][0]']      \n",
            " n)                                                                                               \n",
            "                                                                                                  \n",
            " conv5_block1_0_conv (Conv2D)   (None, 7, 7, 2048)   2099200     ['conv4_block6_out[0][0]']       \n",
            "                                                                                                  \n",
            " conv5_block1_3_conv (Conv2D)   (None, 7, 7, 2048)   1050624     ['conv5_block1_2_relu[0][0]']    \n",
            "                                                                                                  \n",
            " conv5_block1_0_bn (BatchNormal  (None, 7, 7, 2048)  8192        ['conv5_block1_0_conv[0][0]']    \n",
            " ization)                                                                                         \n",
            "                                                                                                  \n",
            " conv5_block1_3_bn (BatchNormal  (None, 7, 7, 2048)  8192        ['conv5_block1_3_conv[0][0]']    \n",
            " ization)                                                                                         \n",
            "                                                                                                  \n",
            " conv5_block1_add (Add)         (None, 7, 7, 2048)   0           ['conv5_block1_0_bn[0][0]',      \n",
            "                                                                  'conv5_block1_3_bn[0][0]']      \n",
            "                                                                                                  \n",
            " conv5_block1_out (Activation)  (None, 7, 7, 2048)   0           ['conv5_block1_add[0][0]']       \n",
            "                                                                                                  \n",
            " conv5_block2_1_conv (Conv2D)   (None, 7, 7, 512)    1049088     ['conv5_block1_out[0][0]']       \n",
            "                                                                                                  \n",
            " conv5_block2_1_bn (BatchNormal  (None, 7, 7, 512)   2048        ['conv5_block2_1_conv[0][0]']    \n",
            " ization)                                                                                         \n",
            "                                                                                                  \n",
            " conv5_block2_1_relu (Activatio  (None, 7, 7, 512)   0           ['conv5_block2_1_bn[0][0]']      \n",
            " n)                                                                                               \n",
            "                                                                                                  \n",
            " conv5_block2_2_conv (Conv2D)   (None, 7, 7, 512)    2359808     ['conv5_block2_1_relu[0][0]']    \n",
            "                                                                                                  \n",
            " conv5_block2_2_bn (BatchNormal  (None, 7, 7, 512)   2048        ['conv5_block2_2_conv[0][0]']    \n",
            " ization)                                                                                         \n",
            "                                                                                                  \n",
            " conv5_block2_2_relu (Activatio  (None, 7, 7, 512)   0           ['conv5_block2_2_bn[0][0]']      \n",
            " n)                                                                                               \n",
            "                                                                                                  \n",
            " conv5_block2_3_conv (Conv2D)   (None, 7, 7, 2048)   1050624     ['conv5_block2_2_relu[0][0]']    \n",
            "                                                                                                  \n",
            " conv5_block2_3_bn (BatchNormal  (None, 7, 7, 2048)  8192        ['conv5_block2_3_conv[0][0]']    \n",
            " ization)                                                                                         \n",
            "                                                                                                  \n",
            " conv5_block2_add (Add)         (None, 7, 7, 2048)   0           ['conv5_block1_out[0][0]',       \n",
            "                                                                  'conv5_block2_3_bn[0][0]']      \n",
            "                                                                                                  \n",
            " conv5_block2_out (Activation)  (None, 7, 7, 2048)   0           ['conv5_block2_add[0][0]']       \n",
            "                                                                                                  \n",
            " conv5_block3_1_conv (Conv2D)   (None, 7, 7, 512)    1049088     ['conv5_block2_out[0][0]']       \n",
            "                                                                                                  \n",
            " conv5_block3_1_bn (BatchNormal  (None, 7, 7, 512)   2048        ['conv5_block3_1_conv[0][0]']    \n",
            " ization)                                                                                         \n",
            "                                                                                                  \n",
            " conv5_block3_1_relu (Activatio  (None, 7, 7, 512)   0           ['conv5_block3_1_bn[0][0]']      \n",
            " n)                                                                                               \n",
            "                                                                                                  \n",
            " conv5_block3_2_conv (Conv2D)   (None, 7, 7, 512)    2359808     ['conv5_block3_1_relu[0][0]']    \n",
            "                                                                                                  \n",
            " conv5_block3_2_bn (BatchNormal  (None, 7, 7, 512)   2048        ['conv5_block3_2_conv[0][0]']    \n",
            " ization)                                                                                         \n",
            "                                                                                                  \n",
            " conv5_block3_2_relu (Activatio  (None, 7, 7, 512)   0           ['conv5_block3_2_bn[0][0]']      \n",
            " n)                                                                                               \n",
            "                                                                                                  \n",
            " conv5_block3_3_conv (Conv2D)   (None, 7, 7, 2048)   1050624     ['conv5_block3_2_relu[0][0]']    \n",
            "                                                                                                  \n",
            " conv5_block3_3_bn (BatchNormal  (None, 7, 7, 2048)  8192        ['conv5_block3_3_conv[0][0]']    \n",
            " ization)                                                                                         \n",
            "                                                                                                  \n",
            " conv5_block3_add (Add)         (None, 7, 7, 2048)   0           ['conv5_block2_out[0][0]',       \n",
            "                                                                  'conv5_block3_3_bn[0][0]']      \n",
            "                                                                                                  \n",
            " conv5_block3_out (Activation)  (None, 7, 7, 2048)   0           ['conv5_block3_add[0][0]']       \n",
            "                                                                                                  \n",
            " flatten_1 (Flatten)            (None, 100352)       0           ['conv5_block3_out[0][0]']       \n",
            "                                                                                                  \n",
            " dense_1 (Dense)                (None, 4)            401412      ['flatten_1[0][0]']              \n",
            "                                                                                                  \n",
            "==================================================================================================\n",
            "Total params: 23,989,124\n",
            "Trainable params: 401,412\n",
            "Non-trainable params: 23,587,712\n",
            "__________________________________________________________________________________________________\n"
          ]
        }
      ],
      "source": [
        "res_model.summary()"
      ]
    },
    {
      "cell_type": "code",
      "execution_count": 40,
      "metadata": {
        "id": "SMPcCe0y5300"
      },
      "outputs": [],
      "source": [
        "res_model.compile(loss='categorical_crossentropy',optimizer='adam',metrics=['accuracy'])"
      ]
    },
    {
      "cell_type": "code",
      "execution_count": 42,
      "metadata": {
        "colab": {
          "base_uri": "https://localhost:8080/"
        },
        "id": "F9qMvwu86InB",
        "outputId": "c68ef682-e92d-4138-beb1-59c64ceca254"
      },
      "outputs": [
        {
          "name": "stdout",
          "output_type": "stream",
          "text": [
            "Epoch 1/5\n",
            "7/7 [==============================] - 136s 21s/step - loss: 7.1138 - accuracy: 1.0000 - val_loss: 7.1557 - val_accuracy: 1.0000\n",
            "Epoch 2/5\n",
            "7/7 [==============================] - 127s 20s/step - loss: 7.1166 - accuracy: 1.0000 - val_loss: 7.1447 - val_accuracy: 1.0000\n",
            "Epoch 3/5\n",
            "7/7 [==============================] - 127s 20s/step - loss: 7.1256 - accuracy: 1.0000 - val_loss: 7.1059 - val_accuracy: 1.0000\n",
            "Epoch 4/5\n",
            "7/7 [==============================] - 125s 20s/step - loss: 7.1278 - accuracy: 1.0000 - val_loss: 7.0673 - val_accuracy: 1.0000\n",
            "Epoch 5/5\n",
            "7/7 [==============================] - 126s 20s/step - loss: 7.1022 - accuracy: 1.0000 - val_loss: 7.2250 - val_accuracy: 1.0000\n"
          ]
        },
        {
          "data": {
            "text/plain": [
              "<keras.callbacks.History at 0x7f8fe5a19780>"
            ]
          },
          "execution_count": 42,
          "metadata": {},
          "output_type": "execute_result"
        }
      ],
      "source": [
        "res_model.fit(train,epochs=5,validation_data=test,steps_per_epoch=len(train),validation_steps=len(test))"
      ]
    },
    {
      "cell_type": "code",
      "execution_count": 43,
      "metadata": {
        "colab": {
          "base_uri": "https://localhost:8080/"
        },
        "id": "djv-KsnY6fF3",
        "outputId": "17fd3690-9c29-4982-ba77-155c199b083f"
      },
      "outputs": [
        {
          "name": "stdout",
          "output_type": "stream",
          "text": [
            "1/1 [==============================] - 0s 413ms/step\n",
            "3\n",
            "cbrtsh\n"
          ]
        }
      ],
      "source": [
        "# Testing 1\n",
        "img1 = image.load_img('/content/drive/MyDrive/gretit.jpg',target_size=(224,224))\n",
        "img1 = image.img_to_array(img1)\n",
        "img1 = np.expand_dims(img1,axis=0)\n",
        "pred = np.argmax(model.predict(img1))\n",
        "print(pred)\n",
        "output = ['blasti','bonegl','brhkyt','cbrtsh','cmnmyn',\n",
        " 'gretit','hilpig','himbul','himgri','hsparo','indvul',\n",
        " 'jglowl','lbicrw','mgprob','rebimg','wcrsrt']\n",
        "print(output[pred])"
      ]
    },
    {
      "cell_type": "code",
      "execution_count": 44,
      "metadata": {
        "colab": {
          "base_uri": "https://localhost:8080/"
        },
        "id": "1JqT-OAaRkKF",
        "outputId": "cff9e6d0-85d9-4ede-b120-ee9dfaee9827"
      },
      "outputs": [
        {
          "name": "stdout",
          "output_type": "stream",
          "text": [
            "1/1 [==============================] - 0s 365ms/step\n",
            "3\n",
            "cbrtsh\n"
          ]
        }
      ],
      "source": [
        "# Testing 2\n",
        "img2 = image.load_img('/content/drive/MyDrive/jglowl.jpg',target_size=(224,224))\n",
        "img2 = image.img_to_array(img2)\n",
        "img2 = np.expand_dims(img2,axis=0)\n",
        "pred = np.argmax(model.predict(img2))\n",
        "print(pred)\n",
        "output = ['blasti','bonegl','brhkyt','cbrtsh','cmnmyn',\n",
        " 'gretit','hilpig','himbul','himgri','hsparo','indvul',\n",
        " 'jglowl','lbicrw','mgprob','rebimg','wcrsrt']\n",
        "print(output[pred])"
      ]
    },
    {
      "cell_type": "code",
      "execution_count": 45,
      "metadata": {
        "colab": {
          "base_uri": "https://localhost:8080/"
        },
        "id": "HWAJCiQJRj-F",
        "outputId": "097f7d4c-0ea2-4c95-b457-f5ea3289141c"
      },
      "outputs": [
        {
          "name": "stdout",
          "output_type": "stream",
          "text": [
            "1/1 [==============================] - 0s 364ms/step\n",
            "1\n",
            "bonegl\n"
          ]
        }
      ],
      "source": [
        "# Testing 3\n",
        "img3 = image.load_img('/content/drive/MyDrive/HimBul.jfif',target_size=(224,224))\n",
        "img3 = image.img_to_array(img3)\n",
        "img3 = np.expand_dims(img3,axis=0)\n",
        "pred = np.argmax(model.predict(img3))\n",
        "print(pred)\n",
        "output = ['blasti','bonegl','brhkyt','cbrtsh','cmnmyn',\n",
        " 'gretit','hilpig','himbul','himgri','hsparo','indvul',\n",
        " 'jglowl','lbicrw','mgprob','rebimg','wcrsrt']\n",
        "print(output[pred])"
      ]
    }
  ],
  "metadata": {
    "accelerator": "GPU",
    "colab": {
      "provenance": []
    },
    "kernelspec": {
      "display_name": "Python 3",
      "name": "python3"
    },
    "language_info": {
      "name": "python"
    }
  },
  "nbformat": 4,
  "nbformat_minor": 0
}
